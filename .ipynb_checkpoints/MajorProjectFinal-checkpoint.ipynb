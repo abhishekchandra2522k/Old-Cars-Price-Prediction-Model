{
 "cells": [
  {
   "cell_type": "code",
   "execution_count": 1,
   "metadata": {},
   "outputs": [
    {
     "data": {
      "text/html": [
       "<div>\n",
       "<style scoped>\n",
       "    .dataframe tbody tr th:only-of-type {\n",
       "        vertical-align: middle;\n",
       "    }\n",
       "\n",
       "    .dataframe tbody tr th {\n",
       "        vertical-align: top;\n",
       "    }\n",
       "\n",
       "    .dataframe thead th {\n",
       "        text-align: right;\n",
       "    }\n",
       "</style>\n",
       "<table border=\"1\" class=\"dataframe\">\n",
       "  <thead>\n",
       "    <tr style=\"text-align: right;\">\n",
       "      <th></th>\n",
       "      <th>Name</th>\n",
       "      <th>Location</th>\n",
       "      <th>Year</th>\n",
       "      <th>Kilometers_Driven</th>\n",
       "      <th>Fuel_Type</th>\n",
       "      <th>Transmission</th>\n",
       "      <th>Owner_Type</th>\n",
       "      <th>Mileage</th>\n",
       "      <th>Engine</th>\n",
       "      <th>Power</th>\n",
       "      <th>Seats</th>\n",
       "      <th>Price</th>\n",
       "    </tr>\n",
       "  </thead>\n",
       "  <tbody>\n",
       "    <tr>\n",
       "      <td>0</td>\n",
       "      <td>Maruti Wagon R LXI CNG</td>\n",
       "      <td>Mumbai</td>\n",
       "      <td>2010</td>\n",
       "      <td>72000</td>\n",
       "      <td>CNG</td>\n",
       "      <td>Manual</td>\n",
       "      <td>First</td>\n",
       "      <td>26.6 km/kg</td>\n",
       "      <td>998 CC</td>\n",
       "      <td>58.16 bhp</td>\n",
       "      <td>5.0</td>\n",
       "      <td>1.75</td>\n",
       "    </tr>\n",
       "    <tr>\n",
       "      <td>1</td>\n",
       "      <td>Hyundai Creta 1.6 CRDi SX Option</td>\n",
       "      <td>Pune</td>\n",
       "      <td>2015</td>\n",
       "      <td>41000</td>\n",
       "      <td>Diesel</td>\n",
       "      <td>Manual</td>\n",
       "      <td>First</td>\n",
       "      <td>19.67 kmpl</td>\n",
       "      <td>1582 CC</td>\n",
       "      <td>126.2 bhp</td>\n",
       "      <td>5.0</td>\n",
       "      <td>12.50</td>\n",
       "    </tr>\n",
       "    <tr>\n",
       "      <td>2</td>\n",
       "      <td>Honda Jazz V</td>\n",
       "      <td>Chennai</td>\n",
       "      <td>2011</td>\n",
       "      <td>46000</td>\n",
       "      <td>Petrol</td>\n",
       "      <td>Manual</td>\n",
       "      <td>First</td>\n",
       "      <td>18.2 kmpl</td>\n",
       "      <td>1199 CC</td>\n",
       "      <td>88.7 bhp</td>\n",
       "      <td>5.0</td>\n",
       "      <td>4.50</td>\n",
       "    </tr>\n",
       "  </tbody>\n",
       "</table>\n",
       "</div>"
      ],
      "text/plain": [
       "                               Name Location  Year  Kilometers_Driven  \\\n",
       "0            Maruti Wagon R LXI CNG   Mumbai  2010              72000   \n",
       "1  Hyundai Creta 1.6 CRDi SX Option     Pune  2015              41000   \n",
       "2                      Honda Jazz V  Chennai  2011              46000   \n",
       "\n",
       "  Fuel_Type Transmission Owner_Type     Mileage   Engine      Power  Seats  \\\n",
       "0       CNG       Manual      First  26.6 km/kg   998 CC  58.16 bhp    5.0   \n",
       "1    Diesel       Manual      First  19.67 kmpl  1582 CC  126.2 bhp    5.0   \n",
       "2    Petrol       Manual      First   18.2 kmpl  1199 CC   88.7 bhp    5.0   \n",
       "\n",
       "   Price  \n",
       "0   1.75  \n",
       "1  12.50  \n",
       "2   4.50  "
      ]
     },
     "execution_count": 1,
     "metadata": {},
     "output_type": "execute_result"
    }
   ],
   "source": [
    "import pandas as pd\n",
    "import numpy as np\n",
    "import seaborn as sns\n",
    "import matplotlib.pyplot as plt\n",
    "%matplotlib inline\n",
    "DT = pd.read_excel(\"Data_Train.xlsx\")\n",
    "DT.head(3)"
   ]
  },
  {
   "cell_type": "code",
   "execution_count": 2,
   "metadata": {},
   "outputs": [
    {
     "data": {
      "text/plain": [
       "(6019, 12)"
      ]
     },
     "execution_count": 2,
     "metadata": {},
     "output_type": "execute_result"
    }
   ],
   "source": [
    "DT.shape"
   ]
  },
  {
   "cell_type": "code",
   "execution_count": 3,
   "metadata": {},
   "outputs": [
    {
     "data": {
      "text/html": [
       "<div>\n",
       "<style scoped>\n",
       "    .dataframe tbody tr th:only-of-type {\n",
       "        vertical-align: middle;\n",
       "    }\n",
       "\n",
       "    .dataframe tbody tr th {\n",
       "        vertical-align: top;\n",
       "    }\n",
       "\n",
       "    .dataframe thead th {\n",
       "        text-align: right;\n",
       "    }\n",
       "</style>\n",
       "<table border=\"1\" class=\"dataframe\">\n",
       "  <thead>\n",
       "    <tr style=\"text-align: right;\">\n",
       "      <th></th>\n",
       "      <th>Year</th>\n",
       "      <th>Kilometers_Driven</th>\n",
       "      <th>Seats</th>\n",
       "      <th>Price</th>\n",
       "    </tr>\n",
       "  </thead>\n",
       "  <tbody>\n",
       "    <tr>\n",
       "      <td>count</td>\n",
       "      <td>6019.000000</td>\n",
       "      <td>6.019000e+03</td>\n",
       "      <td>5977.000000</td>\n",
       "      <td>6019.000000</td>\n",
       "    </tr>\n",
       "    <tr>\n",
       "      <td>mean</td>\n",
       "      <td>2013.358199</td>\n",
       "      <td>5.873838e+04</td>\n",
       "      <td>5.278735</td>\n",
       "      <td>9.479468</td>\n",
       "    </tr>\n",
       "    <tr>\n",
       "      <td>std</td>\n",
       "      <td>3.269742</td>\n",
       "      <td>9.126884e+04</td>\n",
       "      <td>0.808840</td>\n",
       "      <td>11.187917</td>\n",
       "    </tr>\n",
       "    <tr>\n",
       "      <td>min</td>\n",
       "      <td>1998.000000</td>\n",
       "      <td>1.710000e+02</td>\n",
       "      <td>0.000000</td>\n",
       "      <td>0.440000</td>\n",
       "    </tr>\n",
       "    <tr>\n",
       "      <td>25%</td>\n",
       "      <td>2011.000000</td>\n",
       "      <td>3.400000e+04</td>\n",
       "      <td>5.000000</td>\n",
       "      <td>3.500000</td>\n",
       "    </tr>\n",
       "    <tr>\n",
       "      <td>50%</td>\n",
       "      <td>2014.000000</td>\n",
       "      <td>5.300000e+04</td>\n",
       "      <td>5.000000</td>\n",
       "      <td>5.640000</td>\n",
       "    </tr>\n",
       "    <tr>\n",
       "      <td>75%</td>\n",
       "      <td>2016.000000</td>\n",
       "      <td>7.300000e+04</td>\n",
       "      <td>5.000000</td>\n",
       "      <td>9.950000</td>\n",
       "    </tr>\n",
       "    <tr>\n",
       "      <td>max</td>\n",
       "      <td>2019.000000</td>\n",
       "      <td>6.500000e+06</td>\n",
       "      <td>10.000000</td>\n",
       "      <td>160.000000</td>\n",
       "    </tr>\n",
       "  </tbody>\n",
       "</table>\n",
       "</div>"
      ],
      "text/plain": [
       "              Year  Kilometers_Driven        Seats        Price\n",
       "count  6019.000000       6.019000e+03  5977.000000  6019.000000\n",
       "mean   2013.358199       5.873838e+04     5.278735     9.479468\n",
       "std       3.269742       9.126884e+04     0.808840    11.187917\n",
       "min    1998.000000       1.710000e+02     0.000000     0.440000\n",
       "25%    2011.000000       3.400000e+04     5.000000     3.500000\n",
       "50%    2014.000000       5.300000e+04     5.000000     5.640000\n",
       "75%    2016.000000       7.300000e+04     5.000000     9.950000\n",
       "max    2019.000000       6.500000e+06    10.000000   160.000000"
      ]
     },
     "execution_count": 3,
     "metadata": {},
     "output_type": "execute_result"
    }
   ],
   "source": [
    "DT.describe()"
   ]
  },
  {
   "cell_type": "markdown",
   "metadata": {},
   "source": [
    "**Minimun number of seats is ZERO which not possible in any type of car**"
   ]
  },
  {
   "cell_type": "code",
   "execution_count": 4,
   "metadata": {},
   "outputs": [
    {
     "data": {
      "text/plain": [
       "Name                  0\n",
       "Location              0\n",
       "Year                  0\n",
       "Kilometers_Driven     0\n",
       "Fuel_Type             0\n",
       "Transmission          0\n",
       "Owner_Type            0\n",
       "Mileage               2\n",
       "Engine               36\n",
       "Power                36\n",
       "Seats                42\n",
       "Price                 0\n",
       "dtype: int64"
      ]
     },
     "execution_count": 4,
     "metadata": {},
     "output_type": "execute_result"
    }
   ],
   "source": [
    "DT.isnull().sum()"
   ]
  },
  {
   "cell_type": "code",
   "execution_count": 5,
   "metadata": {},
   "outputs": [
    {
     "data": {
      "text/plain": [
       "0       58.16 bhp\n",
       "1       126.2 bhp\n",
       "2        88.7 bhp\n",
       "3       88.76 bhp\n",
       "4       140.8 bhp\n",
       "          ...    \n",
       "6014       74 bhp\n",
       "6015       71 bhp\n",
       "6016      112 bhp\n",
       "6017     67.1 bhp\n",
       "6018     57.6 bhp\n",
       "Name: Power, Length: 6019, dtype: object"
      ]
     },
     "execution_count": 5,
     "metadata": {},
     "output_type": "execute_result"
    }
   ],
   "source": [
    "DT['Power']"
   ]
  },
  {
   "cell_type": "code",
   "execution_count": 6,
   "metadata": {},
   "outputs": [
    {
     "data": {
      "text/plain": [
       "Name                  object\n",
       "Location              object\n",
       "Year                   int64\n",
       "Kilometers_Driven      int64\n",
       "Fuel_Type             object\n",
       "Transmission          object\n",
       "Owner_Type            object\n",
       "Mileage              float64\n",
       "Engine               float64\n",
       "Power                float64\n",
       "Seats                float64\n",
       "Price                float64\n",
       "dtype: object"
      ]
     },
     "execution_count": 6,
     "metadata": {},
     "output_type": "execute_result"
    }
   ],
   "source": [
    "#Converting the data type of required coloumns into float type for further calculation\n",
    "import numpy as np\n",
    "#power\n",
    "DT.loc[DT.Power=='null bhp','Power'] = np.nan\n",
    "DT[DT.Power =='null bhp'].Power.head(3)\n",
    "\n",
    "DT['Power'] = DT.Power.str.replace('bhp','')\n",
    "#DT.head()\n",
    "DT['Power']= DT.Power.astype(float)\n",
    "\n",
    "#Engine\n",
    "DT['Engine'] = DT.Engine.str.replace('CC','')\n",
    "#DT.head(2)\n",
    "DT['Engine']  = DT.Engine.astype(float)\n",
    "#DT.dtypes\n",
    "\n",
    "#mileage\n",
    "mileage = DT.Mileage.str.replace('km/kg','kmpl')\n",
    "DT['Mileage'] = mileage\n",
    "milg = DT.Mileage.str.replace('kmpl','')\n",
    "DT['Mileage'] = milg\n",
    "#DT.head(2)\n",
    "\n",
    "DT['Mileage'] = DT.Mileage.astype(float)\n",
    "\n",
    "DT.dtypes"
   ]
  },
  {
   "cell_type": "code",
   "execution_count": 7,
   "metadata": {},
   "outputs": [
    {
     "data": {
      "text/html": [
       "<div>\n",
       "<style scoped>\n",
       "    .dataframe tbody tr th:only-of-type {\n",
       "        vertical-align: middle;\n",
       "    }\n",
       "\n",
       "    .dataframe tbody tr th {\n",
       "        vertical-align: top;\n",
       "    }\n",
       "\n",
       "    .dataframe thead th {\n",
       "        text-align: right;\n",
       "    }\n",
       "</style>\n",
       "<table border=\"1\" class=\"dataframe\">\n",
       "  <thead>\n",
       "    <tr style=\"text-align: right;\">\n",
       "      <th></th>\n",
       "      <th>Name</th>\n",
       "      <th>Location</th>\n",
       "      <th>Year</th>\n",
       "      <th>Kilometers_Driven</th>\n",
       "      <th>Fuel_Type</th>\n",
       "      <th>Transmission</th>\n",
       "      <th>Owner_Type</th>\n",
       "      <th>Mileage</th>\n",
       "      <th>Engine</th>\n",
       "      <th>Power</th>\n",
       "      <th>Seats</th>\n",
       "      <th>Price</th>\n",
       "    </tr>\n",
       "  </thead>\n",
       "  <tbody>\n",
       "    <tr>\n",
       "      <td>0</td>\n",
       "      <td>Maruti Wagon R LXI CNG</td>\n",
       "      <td>Mumbai</td>\n",
       "      <td>2010</td>\n",
       "      <td>72000</td>\n",
       "      <td>CNG</td>\n",
       "      <td>Manual</td>\n",
       "      <td>First</td>\n",
       "      <td>26.60</td>\n",
       "      <td>998.0</td>\n",
       "      <td>58.16</td>\n",
       "      <td>5.0</td>\n",
       "      <td>1.75</td>\n",
       "    </tr>\n",
       "    <tr>\n",
       "      <td>1</td>\n",
       "      <td>Hyundai Creta 1.6 CRDi SX Option</td>\n",
       "      <td>Pune</td>\n",
       "      <td>2015</td>\n",
       "      <td>41000</td>\n",
       "      <td>Diesel</td>\n",
       "      <td>Manual</td>\n",
       "      <td>First</td>\n",
       "      <td>19.67</td>\n",
       "      <td>1582.0</td>\n",
       "      <td>126.20</td>\n",
       "      <td>5.0</td>\n",
       "      <td>12.50</td>\n",
       "    </tr>\n",
       "    <tr>\n",
       "      <td>2</td>\n",
       "      <td>Honda Jazz V</td>\n",
       "      <td>Chennai</td>\n",
       "      <td>2011</td>\n",
       "      <td>46000</td>\n",
       "      <td>Petrol</td>\n",
       "      <td>Manual</td>\n",
       "      <td>First</td>\n",
       "      <td>18.20</td>\n",
       "      <td>1199.0</td>\n",
       "      <td>88.70</td>\n",
       "      <td>5.0</td>\n",
       "      <td>4.50</td>\n",
       "    </tr>\n",
       "    <tr>\n",
       "      <td>3</td>\n",
       "      <td>Maruti Ertiga VDI</td>\n",
       "      <td>Chennai</td>\n",
       "      <td>2012</td>\n",
       "      <td>87000</td>\n",
       "      <td>Diesel</td>\n",
       "      <td>Manual</td>\n",
       "      <td>First</td>\n",
       "      <td>20.77</td>\n",
       "      <td>1248.0</td>\n",
       "      <td>88.76</td>\n",
       "      <td>7.0</td>\n",
       "      <td>6.00</td>\n",
       "    </tr>\n",
       "  </tbody>\n",
       "</table>\n",
       "</div>"
      ],
      "text/plain": [
       "                               Name Location  Year  Kilometers_Driven  \\\n",
       "0            Maruti Wagon R LXI CNG   Mumbai  2010              72000   \n",
       "1  Hyundai Creta 1.6 CRDi SX Option     Pune  2015              41000   \n",
       "2                      Honda Jazz V  Chennai  2011              46000   \n",
       "3                 Maruti Ertiga VDI  Chennai  2012              87000   \n",
       "\n",
       "  Fuel_Type Transmission Owner_Type  Mileage  Engine   Power  Seats  Price  \n",
       "0       CNG       Manual      First    26.60   998.0   58.16    5.0   1.75  \n",
       "1    Diesel       Manual      First    19.67  1582.0  126.20    5.0  12.50  \n",
       "2    Petrol       Manual      First    18.20  1199.0   88.70    5.0   4.50  \n",
       "3    Diesel       Manual      First    20.77  1248.0   88.76    7.0   6.00  "
      ]
     },
     "execution_count": 7,
     "metadata": {},
     "output_type": "execute_result"
    }
   ],
   "source": [
    " DT.head(4)"
   ]
  },
  {
   "cell_type": "code",
   "execution_count": 8,
   "metadata": {},
   "outputs": [
    {
     "name": "stdout",
     "output_type": "stream",
     "text": [
      "meanEngine =  1621.276449941501\n",
      "meanPower =  113.25304969366827\n",
      "meanMileage =  18.134960943992073\n",
      "meanSeats=  5.278735151413753\n"
     ]
    }
   ],
   "source": [
    "#Finding the mean of coloums having 'NUll' or 'NaN' values\n",
    "print('meanEngine = ',DT.Engine.mean())\n",
    "print('meanPower = ',DT.Power.mean())\n",
    "print('meanMileage = ',DT.Mileage.mean())\n",
    "print('meanSeats= ',DT.Seats.mean())"
   ]
  },
  {
   "cell_type": "code",
   "execution_count": 9,
   "metadata": {},
   "outputs": [
    {
     "data": {
      "text/plain": [
       "Name                 0\n",
       "Location             0\n",
       "Year                 0\n",
       "Kilometers_Driven    0\n",
       "Fuel_Type            0\n",
       "Transmission         0\n",
       "Owner_Type           0\n",
       "Mileage              0\n",
       "Engine               0\n",
       "Power                0\n",
       "Seats                0\n",
       "Price                0\n",
       "dtype: int64"
      ]
     },
     "execution_count": 9,
     "metadata": {},
     "output_type": "execute_result"
    }
   ],
   "source": [
    "#filling the 'Null' or \"NaN\" having coloumns by that particular coloumn's mean value\n",
    "DT['Engine'].fillna(value = 1621.27644,inplace =True)\n",
    "DT['Power'].fillna(value =  113.2530,inplace =True)\n",
    "DT['Mileage'].fillna(value = 18.13496,inplace =True)\n",
    "DT['Seats'].fillna(value = 5,inplace =True)\n",
    "\n",
    "#Checking if there is any null values left to fill\n",
    "DT.isnull().sum()"
   ]
  },
  {
   "cell_type": "code",
   "execution_count": 10,
   "metadata": {},
   "outputs": [
    {
     "name": "stdout",
     "output_type": "stream",
     "text": [
      "meanEngine =  1621.276449882041\n",
      "meanPower =  113.25304851304156\n",
      "meanMileage =  18.1349609436784\n",
      "meanSeats=  5.2767901644791495\n"
     ]
    }
   ],
   "source": [
    "#Checking the changes in the mean value of columns after filling the 'NaN' values\n",
    "print('meanEngine = ',DT.Engine.mean())\n",
    "print('meanPower = ',DT.Power.mean())\n",
    "print('meanMileage = ',DT.Mileage.mean())\n",
    "print('meanSeats= ',DT.Seats.mean())"
   ]
  },
  {
   "cell_type": "code",
   "execution_count": 11,
   "metadata": {},
   "outputs": [],
   "source": [
    "#Dat = DT[DT.Year ==1998]\n",
    "#Dat"
   ]
  },
  {
   "cell_type": "code",
   "execution_count": 12,
   "metadata": {},
   "outputs": [
    {
     "data": {
      "text/plain": [
       "0"
      ]
     },
     "execution_count": 12,
     "metadata": {},
     "output_type": "execute_result"
    }
   ],
   "source": [
    "#checking for duplicate rows\n",
    "DT.duplicated().sum()"
   ]
  },
  {
   "cell_type": "code",
   "execution_count": 13,
   "metadata": {},
   "outputs": [],
   "source": [
    "#Storing the index values of rows for those coloumns having '0' values\n",
    "zero_val_milg = DT[DT.Mileage==0].index.tolist()\n",
    "zero_val_pow = DT[DT.Power==0].index.tolist()\n",
    "zero_val_seat =DT[DT.Seats==0].index.tolist()\n",
    "zero_val_eng = DT[DT.Engine==0].index.tolist()"
   ]
  },
  {
   "cell_type": "code",
   "execution_count": 14,
   "metadata": {
    "scrolled": true
   },
   "outputs": [],
   "source": [
    "#Droping the rows that have '0's' in obivious coloumns\n",
    "DT.drop(labels =zero_val_milg ,inplace =True)\n",
    "#DT.drop(labels =zero_val_pow ,inplace =True)\n",
    "DT.drop(labels =zero_val_seat ,inplace =True)\n",
    "DT.drop(labels =zero_val_eng ,inplace =True)"
   ]
  },
  {
   "cell_type": "code",
   "execution_count": 15,
   "metadata": {},
   "outputs": [
    {
     "data": {
      "text/plain": [
       "(5950, 12)"
      ]
     },
     "execution_count": 15,
     "metadata": {},
     "output_type": "execute_result"
    }
   ],
   "source": [
    "DT.shape"
   ]
  },
  {
   "cell_type": "code",
   "execution_count": 16,
   "metadata": {},
   "outputs": [
    {
     "data": {
      "text/html": [
       "<div>\n",
       "<style scoped>\n",
       "    .dataframe tbody tr th:only-of-type {\n",
       "        vertical-align: middle;\n",
       "    }\n",
       "\n",
       "    .dataframe tbody tr th {\n",
       "        vertical-align: top;\n",
       "    }\n",
       "\n",
       "    .dataframe thead th {\n",
       "        text-align: right;\n",
       "    }\n",
       "</style>\n",
       "<table border=\"1\" class=\"dataframe\">\n",
       "  <thead>\n",
       "    <tr style=\"text-align: right;\">\n",
       "      <th></th>\n",
       "      <th>Year</th>\n",
       "      <th>Kilometers_Driven</th>\n",
       "      <th>Mileage</th>\n",
       "      <th>Engine</th>\n",
       "      <th>Power</th>\n",
       "      <th>Seats</th>\n",
       "      <th>Price</th>\n",
       "    </tr>\n",
       "  </thead>\n",
       "  <tbody>\n",
       "    <tr>\n",
       "      <td>count</td>\n",
       "      <td>5950.000000</td>\n",
       "      <td>5.950000e+03</td>\n",
       "      <td>5950.000000</td>\n",
       "      <td>5950.000000</td>\n",
       "      <td>5950.000000</td>\n",
       "      <td>5950.000000</td>\n",
       "      <td>5950.000000</td>\n",
       "    </tr>\n",
       "    <tr>\n",
       "      <td>mean</td>\n",
       "      <td>2013.406555</td>\n",
       "      <td>5.856363e+04</td>\n",
       "      <td>18.343501</td>\n",
       "      <td>1619.695615</td>\n",
       "      <td>113.120496</td>\n",
       "      <td>5.279664</td>\n",
       "      <td>9.456319</td>\n",
       "    </tr>\n",
       "    <tr>\n",
       "      <td>std</td>\n",
       "      <td>3.220781</td>\n",
       "      <td>9.165973e+04</td>\n",
       "      <td>4.173887</td>\n",
       "      <td>597.264498</td>\n",
       "      <td>53.341649</td>\n",
       "      <td>0.803279</td>\n",
       "      <td>11.138390</td>\n",
       "    </tr>\n",
       "    <tr>\n",
       "      <td>min</td>\n",
       "      <td>1998.000000</td>\n",
       "      <td>1.710000e+02</td>\n",
       "      <td>6.400000</td>\n",
       "      <td>72.000000</td>\n",
       "      <td>34.200000</td>\n",
       "      <td>2.000000</td>\n",
       "      <td>0.440000</td>\n",
       "    </tr>\n",
       "    <tr>\n",
       "      <td>25%</td>\n",
       "      <td>2012.000000</td>\n",
       "      <td>3.390450e+04</td>\n",
       "      <td>15.300000</td>\n",
       "      <td>1198.000000</td>\n",
       "      <td>77.000000</td>\n",
       "      <td>5.000000</td>\n",
       "      <td>3.500000</td>\n",
       "    </tr>\n",
       "    <tr>\n",
       "      <td>50%</td>\n",
       "      <td>2014.000000</td>\n",
       "      <td>5.300000e+04</td>\n",
       "      <td>18.200000</td>\n",
       "      <td>1493.000000</td>\n",
       "      <td>98.600000</td>\n",
       "      <td>5.000000</td>\n",
       "      <td>5.650000</td>\n",
       "    </tr>\n",
       "    <tr>\n",
       "      <td>75%</td>\n",
       "      <td>2016.000000</td>\n",
       "      <td>7.297725e+04</td>\n",
       "      <td>21.100000</td>\n",
       "      <td>1968.000000</td>\n",
       "      <td>138.030000</td>\n",
       "      <td>5.000000</td>\n",
       "      <td>9.915000</td>\n",
       "    </tr>\n",
       "    <tr>\n",
       "      <td>max</td>\n",
       "      <td>2019.000000</td>\n",
       "      <td>6.500000e+06</td>\n",
       "      <td>33.540000</td>\n",
       "      <td>5998.000000</td>\n",
       "      <td>560.000000</td>\n",
       "      <td>10.000000</td>\n",
       "      <td>160.000000</td>\n",
       "    </tr>\n",
       "  </tbody>\n",
       "</table>\n",
       "</div>"
      ],
      "text/plain": [
       "              Year  Kilometers_Driven      Mileage       Engine        Power  \\\n",
       "count  5950.000000       5.950000e+03  5950.000000  5950.000000  5950.000000   \n",
       "mean   2013.406555       5.856363e+04    18.343501  1619.695615   113.120496   \n",
       "std       3.220781       9.165973e+04     4.173887   597.264498    53.341649   \n",
       "min    1998.000000       1.710000e+02     6.400000    72.000000    34.200000   \n",
       "25%    2012.000000       3.390450e+04    15.300000  1198.000000    77.000000   \n",
       "50%    2014.000000       5.300000e+04    18.200000  1493.000000    98.600000   \n",
       "75%    2016.000000       7.297725e+04    21.100000  1968.000000   138.030000   \n",
       "max    2019.000000       6.500000e+06    33.540000  5998.000000   560.000000   \n",
       "\n",
       "             Seats        Price  \n",
       "count  5950.000000  5950.000000  \n",
       "mean      5.279664     9.456319  \n",
       "std       0.803279    11.138390  \n",
       "min       2.000000     0.440000  \n",
       "25%       5.000000     3.500000  \n",
       "50%       5.000000     5.650000  \n",
       "75%       5.000000     9.915000  \n",
       "max      10.000000   160.000000  "
      ]
     },
     "execution_count": 16,
     "metadata": {},
     "output_type": "execute_result"
    }
   ],
   "source": [
    "DT.describe()"
   ]
  },
  {
   "cell_type": "markdown",
   "metadata": {},
   "source": [
    "**NOTE :- Mininum  number of seats are not zero can be see from above aggregation** "
   ]
  },
  {
   "cell_type": "markdown",
   "metadata": {},
   "source": [
    "# **Detecting outliers using graphical methods**"
   ]
  },
  {
   "cell_type": "code",
   "execution_count": 17,
   "metadata": {},
   "outputs": [
    {
     "data": {
      "image/png": "[encoded data removed]",
      "text/plain": [
       "<Figure size 1080x720 with 4 Axes>"
      ]
     },
     "metadata": {
      "needs_background": "light"
     },
     "output_type": "display_data"
    }
   ],
   "source": [
    "fig = plt.figure(figsize = (15,10))\n",
    "\n",
    "fig.subplots_adjust(hspace = 0.4, wspace =0.3)\n",
    "plt.subplot(2,2,1)\n",
    "sns.scatterplot(x = 'Engine',y = 'Price',data = DT)\n",
    "\n",
    "plt.subplot(2,2,2)\n",
    "sns.scatterplot(x = 'Mileage',y = 'Price',data = DT)\n",
    "\n",
    "plt.subplot(2,2,3)\n",
    "sns.scatterplot(x = 'Kilometers_Driven',y = 'Price',data = DT)\n",
    "\n",
    "plt.subplot(2,2,4)\n",
    "sns.scatterplot(x = 'Power',y = 'Price',data = DT)\n",
    "\n",
    "plt.show()"
   ]
  },
  {
   "cell_type": "code",
   "execution_count": 18,
   "metadata": {},
   "outputs": [
    {
     "data": {
      "text/plain": [
       "<seaborn.axisgrid.PairGrid at 0x7fa30291b2d0>"
      ]
     },
     "execution_count": 18,
     "metadata": {},
     "output_type": "execute_result"
    },
    {
     "data": {
      "image/png": "[encoded data removed]",
      "text/plain": [
       "<Figure size 1260x1260 with 56 Axes>"
      ]
     },
     "metadata": {
      "needs_background": "light"
     },
     "output_type": "display_data"
    }
   ],
   "source": [
    "sns.pairplot(DT)"
   ]
  },
  {
   "cell_type": "code",
   "execution_count": 19,
   "metadata": {},
   "outputs": [
    {
     "data": {
      "text/plain": [
       "(5949, 12)"
      ]
     },
     "execution_count": 19,
     "metadata": {},
     "output_type": "execute_result"
    }
   ],
   "source": [
    "#Droping one row because Kilometer_driven have one outlier\n",
    "kdriven = DT[DT.Kilometers_Driven>1000000].index.tolist()\n",
    "DT.drop(labels = kdriven ,inplace =True)\n",
    "DT.shape"
   ]
  },
  {
   "cell_type": "markdown",
   "metadata": {},
   "source": [
    "**We can see that there are no siginificant outliers in the datasheet to remove therefore we'll ingonre them.**"
   ]
  },
  {
   "cell_type": "markdown",
   "metadata": {},
   "source": [
    "# Exploratory Analysis of our datasheet : -"
   ]
  },
  {
   "cell_type": "markdown",
   "metadata": {},
   "source": [
    "**Imputing a New coloumn derived from 'Name' coloumn in the datasheet**"
   ]
  },
  {
   "cell_type": "code",
   "execution_count": 20,
   "metadata": {},
   "outputs": [
    {
     "data": {
      "text/html": [
       "<div>\n",
       "<style scoped>\n",
       "    .dataframe tbody tr th:only-of-type {\n",
       "        vertical-align: middle;\n",
       "    }\n",
       "\n",
       "    .dataframe tbody tr th {\n",
       "        vertical-align: top;\n",
       "    }\n",
       "\n",
       "    .dataframe thead th {\n",
       "        text-align: right;\n",
       "    }\n",
       "</style>\n",
       "<table border=\"1\" class=\"dataframe\">\n",
       "  <thead>\n",
       "    <tr style=\"text-align: right;\">\n",
       "      <th></th>\n",
       "      <th>Name</th>\n",
       "      <th>Location</th>\n",
       "      <th>Year</th>\n",
       "      <th>Kilometers_Driven</th>\n",
       "      <th>Fuel_Type</th>\n",
       "      <th>Transmission</th>\n",
       "      <th>Owner_Type</th>\n",
       "      <th>Mileage</th>\n",
       "      <th>Engine</th>\n",
       "      <th>Power</th>\n",
       "      <th>Seats</th>\n",
       "      <th>Price</th>\n",
       "      <th>Brand</th>\n",
       "    </tr>\n",
       "  </thead>\n",
       "  <tbody>\n",
       "    <tr>\n",
       "      <td>0</td>\n",
       "      <td>Maruti Wagon R LXI CNG</td>\n",
       "      <td>Mumbai</td>\n",
       "      <td>2010</td>\n",
       "      <td>72000</td>\n",
       "      <td>CNG</td>\n",
       "      <td>Manual</td>\n",
       "      <td>First</td>\n",
       "      <td>26.60</td>\n",
       "      <td>998.0</td>\n",
       "      <td>58.16</td>\n",
       "      <td>5.0</td>\n",
       "      <td>1.75</td>\n",
       "      <td>Maruti</td>\n",
       "    </tr>\n",
       "    <tr>\n",
       "      <td>1</td>\n",
       "      <td>Hyundai Creta 1.6 CRDi SX Option</td>\n",
       "      <td>Pune</td>\n",
       "      <td>2015</td>\n",
       "      <td>41000</td>\n",
       "      <td>Diesel</td>\n",
       "      <td>Manual</td>\n",
       "      <td>First</td>\n",
       "      <td>19.67</td>\n",
       "      <td>1582.0</td>\n",
       "      <td>126.20</td>\n",
       "      <td>5.0</td>\n",
       "      <td>12.50</td>\n",
       "      <td>Hyundai</td>\n",
       "    </tr>\n",
       "    <tr>\n",
       "      <td>2</td>\n",
       "      <td>Honda Jazz V</td>\n",
       "      <td>Chennai</td>\n",
       "      <td>2011</td>\n",
       "      <td>46000</td>\n",
       "      <td>Petrol</td>\n",
       "      <td>Manual</td>\n",
       "      <td>First</td>\n",
       "      <td>18.20</td>\n",
       "      <td>1199.0</td>\n",
       "      <td>88.70</td>\n",
       "      <td>5.0</td>\n",
       "      <td>4.50</td>\n",
       "      <td>Honda</td>\n",
       "    </tr>\n",
       "    <tr>\n",
       "      <td>3</td>\n",
       "      <td>Maruti Ertiga VDI</td>\n",
       "      <td>Chennai</td>\n",
       "      <td>2012</td>\n",
       "      <td>87000</td>\n",
       "      <td>Diesel</td>\n",
       "      <td>Manual</td>\n",
       "      <td>First</td>\n",
       "      <td>20.77</td>\n",
       "      <td>1248.0</td>\n",
       "      <td>88.76</td>\n",
       "      <td>7.0</td>\n",
       "      <td>6.00</td>\n",
       "      <td>Maruti</td>\n",
       "    </tr>\n",
       "    <tr>\n",
       "      <td>4</td>\n",
       "      <td>Audi A4 New 2.0 TDI Multitronic</td>\n",
       "      <td>Coimbatore</td>\n",
       "      <td>2013</td>\n",
       "      <td>40670</td>\n",
       "      <td>Diesel</td>\n",
       "      <td>Automatic</td>\n",
       "      <td>Second</td>\n",
       "      <td>15.20</td>\n",
       "      <td>1968.0</td>\n",
       "      <td>140.80</td>\n",
       "      <td>5.0</td>\n",
       "      <td>17.74</td>\n",
       "      <td>Audi</td>\n",
       "    </tr>\n",
       "  </tbody>\n",
       "</table>\n",
       "</div>"
      ],
      "text/plain": [
       "                               Name    Location  Year  Kilometers_Driven  \\\n",
       "0            Maruti Wagon R LXI CNG      Mumbai  2010              72000   \n",
       "1  Hyundai Creta 1.6 CRDi SX Option        Pune  2015              41000   \n",
       "2                      Honda Jazz V     Chennai  2011              46000   \n",
       "3                 Maruti Ertiga VDI     Chennai  2012              87000   \n",
       "4   Audi A4 New 2.0 TDI Multitronic  Coimbatore  2013              40670   \n",
       "\n",
       "  Fuel_Type Transmission Owner_Type  Mileage  Engine   Power  Seats  Price  \\\n",
       "0       CNG       Manual      First    26.60   998.0   58.16    5.0   1.75   \n",
       "1    Diesel       Manual      First    19.67  1582.0  126.20    5.0  12.50   \n",
       "2    Petrol       Manual      First    18.20  1199.0   88.70    5.0   4.50   \n",
       "3    Diesel       Manual      First    20.77  1248.0   88.76    7.0   6.00   \n",
       "4    Diesel    Automatic     Second    15.20  1968.0  140.80    5.0  17.74   \n",
       "\n",
       "     Brand  \n",
       "0   Maruti  \n",
       "1  Hyundai  \n",
       "2    Honda  \n",
       "3   Maruti  \n",
       "4     Audi  "
      ]
     },
     "execution_count": 20,
     "metadata": {},
     "output_type": "execute_result"
    }
   ],
   "source": [
    "#Brand is the new coloumn containing only the Brand Name of cars#\n",
    "DT['Brand'] = DT.Name.str.split().str.get(0)\n",
    "DT.head(5)"
   ]
  },
  {
   "cell_type": "markdown",
   "metadata": {},
   "source": [
    "**Finding the relation between 'Price' and the independent variables.**"
   ]
  },
  {
   "cell_type": "code",
   "execution_count": 20,
   "metadata": {},
   "outputs": [
    {
     "data": {
      "image/png": "[encoded data removed]",
      "text/plain": [
       "<Figure size 1800x1080 with 4 Axes>"
      ]
     },
     "metadata": {
      "needs_background": "light"
     },
     "output_type": "display_data"
    }
   ],
   "source": [
    "import seaborn as sns\n",
    "\n",
    "fig = plt.figure(figsize = (25,15))\n",
    "\n",
    "fig.subplots_adjust(hspace = 0.2, wspace =0.3)\n",
    "plt.subplot(2,2,1)\n",
    "#Relation between Price and location\n",
    "sns.barplot(x = 'Price', y ='Location', data  = DT)\n",
    "plt.title('Price vs Location',fontsize  =25)\n",
    "\n",
    "#Relation between Price and year\n",
    "plt.subplot(2,2,2)\n",
    "sns.barplot(x ='Year', y ='Price', data  = DT)\n",
    "plt.title('Price vs Year',fontsize  =25)\n",
    "\n",
    "#Relation between Price and Brand\n",
    "plt.subplot(2,2,3)\n",
    "sns.barplot(x = 'Price', y ='Brand', data  = DT)\n",
    "plt.title('Price vs Brand',fontsize  =25)\n",
    "\n",
    "#Counting the which brand have most number of cars in our datasheet \n",
    "plt.subplot(2,2,4)\n",
    "sns.countplot(y ='Brand', data  = DT)\n",
    "plt.title('Count of cars of a Brand',fontsize  =25)\n",
    "\n",
    "plt.show()"
   ]
  },
  {
   "cell_type": "markdown",
   "metadata": {},
   "source": [
    "**INFERENCE :-**\n",
    "\n",
    "1.Price of cars are highest in **Coimbatore** and **Banglore** while lowest in **Jaipur** and **kolkata**.\n",
    "\n",
    "2.The Price of cars increases gradually year by year except the price drops slightly in year **2007**\n",
    "\n",
    "3.The Highest price of car is **Lamborghini** and lowest price of car is **Maruti** and thus the highest number of cars owned by people is of brand **Maruti** and hardly two car is owned of brand **lamborghini** by people.\n",
    "\n",
    "4.While **Mercedenz-Benz** and **BMW** cars are owned by moderate amount of people despite of their high prices.\n",
    "\n",
    "**NOTE :-** We can say that the lesser the price of a car then it is more likely to be bought by people."
   ]
  },
  {
   "cell_type": "code",
   "execution_count": 21,
   "metadata": {},
   "outputs": [
    {
     "data": {
      "image/png": "[encoded data removed]",
      "text/plain": [
       "<Figure size 1800x1080 with 4 Axes>"
      ]
     },
     "metadata": {
      "needs_background": "light"
     },
     "output_type": "display_data"
    }
   ],
   "source": [
    "import seaborn as sns\n",
    "\n",
    "fig = plt.figure(figsize = (25,15))\n",
    "\n",
    "fig.subplots_adjust(hspace = 0.2, wspace =0.3)\n",
    "plt.subplot(2,2,1)\n",
    "#Relation between Price and Fuel type\n",
    "sns.barplot(x = 'Fuel_Type', y = 'Price', data  = DT)\n",
    "plt.title('Price vs Fuel Type',fontsize  =25)\n",
    "\n",
    "#Relation between Price and transmission\n",
    "plt.subplot(2,2,2)\n",
    "sns.barplot(x ='Transmission', y ='Price', data  = DT)\n",
    "plt.title('Price vs Transmission',fontsize  =25)\n",
    "\n",
    "#Relation between price and owner type\n",
    "plt.subplot(2,2,3)\n",
    "sns.barplot(x ='Owner_Type', y ='Price', data  = DT)\n",
    "plt.title('Price vs Owner type',fontsize  =25)\n",
    "\n",
    "#Relation between price and seats\n",
    "plt.subplot(2,2,4)\n",
    "sns.barplot(x ='Seats', y ='Price', data  = DT)\n",
    "plt.title('Price vs Seats',fontsize  =25)\n",
    "\n",
    "plt.show()"
   ]
  },
  {
   "cell_type": "markdown",
   "metadata": {},
   "source": [
    "**INFERENCE :-**\n",
    "\n",
    "* 1.According to our datasheet price of **Diesel** and **Electric** type of cars is highest below that price is **Petrol** type cars.while **CNG** and **LPG** car type prices are lowest.\n",
    "* 2.Cleary from graph of Price vs Transimission **Automatic** cars have higher prices than **Manual** type.\n",
    "* 3.As the number of owner of a car increases the price of that car decreases.\n",
    "* 4.**Two** seater cars has the Highest prices and as the seats increases in cars the prices decreases.\n",
    "\n",
    "**NOTE :-** \n",
    "Condition for high price car :-\n",
    "* 1.Should be diesel or electric.\n",
    "* 2.Automatic in trasmission.\n",
    "* 3.Should be a New car or atleats a second-hand car.\n",
    "* 4.Should have Least number of seats."
   ]
  },
  {
   "cell_type": "markdown",
   "metadata": {},
   "source": [
    "# **Encoding the categorical coloumns :-** "
   ]
  },
  {
   "cell_type": "code",
   "execution_count": 21,
   "metadata": {},
   "outputs": [
    {
     "name": "stdout",
     "output_type": "stream",
     "text": [
      "<class 'pandas.core.frame.DataFrame'>\n",
      "Int64Index: 5949 entries, 0 to 6018\n",
      "Data columns (total 13 columns):\n",
      "Name                 5949 non-null object\n",
      "Location             5949 non-null object\n",
      "Year                 5949 non-null int64\n",
      "Kilometers_Driven    5949 non-null int64\n",
      "Fuel_Type            5949 non-null object\n",
      "Transmission         5949 non-null object\n",
      "Owner_Type           5949 non-null object\n",
      "Mileage              5949 non-null float64\n",
      "Engine               5949 non-null float64\n",
      "Power                5949 non-null float64\n",
      "Seats                5949 non-null float64\n",
      "Price                5949 non-null float64\n",
      "Brand                5949 non-null object\n",
      "dtypes: float64(5), int64(2), object(6)\n",
      "memory usage: 650.7+ KB\n"
     ]
    }
   ],
   "source": [
    "df = DT\n",
    "df.info()"
   ]
  },
  {
   "cell_type": "code",
   "execution_count": 79,
   "metadata": {},
   "outputs": [],
   "source": [
    "df2 = df.groupby(by = 'Brand').mean()['Price'].sort_values().reset_index()"
   ]
  },
  {
   "cell_type": "code",
   "execution_count": 88,
   "metadata": {
    "scrolled": true
   },
   "outputs": [
    {
     "data": {
      "text/html": [
       "<div>\n",
       "<style scoped>\n",
       "    .dataframe tbody tr th:only-of-type {\n",
       "        vertical-align: middle;\n",
       "    }\n",
       "\n",
       "    .dataframe tbody tr th {\n",
       "        vertical-align: top;\n",
       "    }\n",
       "\n",
       "    .dataframe thead th {\n",
       "        text-align: right;\n",
       "    }\n",
       "</style>\n",
       "<table border=\"1\" class=\"dataframe\">\n",
       "  <thead>\n",
       "    <tr style=\"text-align: right;\">\n",
       "      <th></th>\n",
       "      <th>Brand</th>\n",
       "      <th>Price</th>\n",
       "    </tr>\n",
       "  </thead>\n",
       "  <tbody>\n",
       "    <tr>\n",
       "      <td>0</td>\n",
       "      <td>Ambassador</td>\n",
       "      <td>1.350000</td>\n",
       "    </tr>\n",
       "    <tr>\n",
       "      <td>1</td>\n",
       "      <td>Chevrolet</td>\n",
       "      <td>3.044463</td>\n",
       "    </tr>\n",
       "    <tr>\n",
       "      <td>2</td>\n",
       "      <td>Datsun</td>\n",
       "      <td>3.049231</td>\n",
       "    </tr>\n",
       "    <tr>\n",
       "      <td>3</td>\n",
       "      <td>Fiat</td>\n",
       "      <td>3.370000</td>\n",
       "    </tr>\n",
       "    <tr>\n",
       "      <td>4</td>\n",
       "      <td>Tata</td>\n",
       "      <td>3.562849</td>\n",
       "    </tr>\n",
       "    <tr>\n",
       "      <td>5</td>\n",
       "      <td>Maruti</td>\n",
       "      <td>4.519926</td>\n",
       "    </tr>\n",
       "    <tr>\n",
       "      <td>6</td>\n",
       "      <td>Nissan</td>\n",
       "      <td>4.738352</td>\n",
       "    </tr>\n",
       "    <tr>\n",
       "      <td>7</td>\n",
       "      <td>Volkswagen</td>\n",
       "      <td>5.306815</td>\n",
       "    </tr>\n",
       "    <tr>\n",
       "      <td>8</td>\n",
       "      <td>Honda</td>\n",
       "      <td>5.428165</td>\n",
       "    </tr>\n",
       "    <tr>\n",
       "      <td>9</td>\n",
       "      <td>Hyundai</td>\n",
       "      <td>5.447823</td>\n",
       "    </tr>\n",
       "    <tr>\n",
       "      <td>10</td>\n",
       "      <td>Renault</td>\n",
       "      <td>5.799034</td>\n",
       "    </tr>\n",
       "    <tr>\n",
       "      <td>11</td>\n",
       "      <td>Ford</td>\n",
       "      <td>6.900401</td>\n",
       "    </tr>\n",
       "    <tr>\n",
       "      <td>12</td>\n",
       "      <td>Skoda</td>\n",
       "      <td>7.584620</td>\n",
       "    </tr>\n",
       "    <tr>\n",
       "      <td>13</td>\n",
       "      <td>Mahindra</td>\n",
       "      <td>8.073333</td>\n",
       "    </tr>\n",
       "    <tr>\n",
       "      <td>14</td>\n",
       "      <td>Force</td>\n",
       "      <td>9.333333</td>\n",
       "    </tr>\n",
       "    <tr>\n",
       "      <td>15</td>\n",
       "      <td>Mitsubishi</td>\n",
       "      <td>11.058889</td>\n",
       "    </tr>\n",
       "    <tr>\n",
       "      <td>16</td>\n",
       "      <td>Toyota</td>\n",
       "      <td>11.622714</td>\n",
       "    </tr>\n",
       "    <tr>\n",
       "      <td>17</td>\n",
       "      <td>ISUZU</td>\n",
       "      <td>12.045000</td>\n",
       "    </tr>\n",
       "    <tr>\n",
       "      <td>18</td>\n",
       "      <td>Jeep</td>\n",
       "      <td>18.718667</td>\n",
       "    </tr>\n",
       "    <tr>\n",
       "      <td>19</td>\n",
       "      <td>Volvo</td>\n",
       "      <td>18.802857</td>\n",
       "    </tr>\n",
       "    <tr>\n",
       "      <td>20</td>\n",
       "      <td>Isuzu</td>\n",
       "      <td>20.000000</td>\n",
       "    </tr>\n",
       "    <tr>\n",
       "      <td>21</td>\n",
       "      <td>BMW</td>\n",
       "      <td>25.093684</td>\n",
       "    </tr>\n",
       "    <tr>\n",
       "      <td>22</td>\n",
       "      <td>Audi</td>\n",
       "      <td>25.559402</td>\n",
       "    </tr>\n",
       "    <tr>\n",
       "      <td>23</td>\n",
       "      <td>Mercedes-Benz</td>\n",
       "      <td>26.374412</td>\n",
       "    </tr>\n",
       "    <tr>\n",
       "      <td>24</td>\n",
       "      <td>Mini</td>\n",
       "      <td>26.896923</td>\n",
       "    </tr>\n",
       "    <tr>\n",
       "      <td>25</td>\n",
       "      <td>Jaguar</td>\n",
       "      <td>37.632250</td>\n",
       "    </tr>\n",
       "    <tr>\n",
       "      <td>26</td>\n",
       "      <td>Land</td>\n",
       "      <td>42.526078</td>\n",
       "    </tr>\n",
       "    <tr>\n",
       "      <td>27</td>\n",
       "      <td>Porsche</td>\n",
       "      <td>48.348333</td>\n",
       "    </tr>\n",
       "    <tr>\n",
       "      <td>28</td>\n",
       "      <td>Bentley</td>\n",
       "      <td>59.000000</td>\n",
       "    </tr>\n",
       "    <tr>\n",
       "      <td>29</td>\n",
       "      <td>Lamborghini</td>\n",
       "      <td>120.000000</td>\n",
       "    </tr>\n",
       "  </tbody>\n",
       "</table>\n",
       "</div>"
      ],
      "text/plain": [
       "            Brand       Price\n",
       "0      Ambassador    1.350000\n",
       "1       Chevrolet    3.044463\n",
       "2          Datsun    3.049231\n",
       "3            Fiat    3.370000\n",
       "4            Tata    3.562849\n",
       "5          Maruti    4.519926\n",
       "6          Nissan    4.738352\n",
       "7      Volkswagen    5.306815\n",
       "8           Honda    5.428165\n",
       "9         Hyundai    5.447823\n",
       "10        Renault    5.799034\n",
       "11           Ford    6.900401\n",
       "12          Skoda    7.584620\n",
       "13       Mahindra    8.073333\n",
       "14          Force    9.333333\n",
       "15     Mitsubishi   11.058889\n",
       "16         Toyota   11.622714\n",
       "17          ISUZU   12.045000\n",
       "18           Jeep   18.718667\n",
       "19          Volvo   18.802857\n",
       "20          Isuzu   20.000000\n",
       "21            BMW   25.093684\n",
       "22           Audi   25.559402\n",
       "23  Mercedes-Benz   26.374412\n",
       "24           Mini   26.896923\n",
       "25         Jaguar   37.632250\n",
       "26           Land   42.526078\n",
       "27        Porsche   48.348333\n",
       "28        Bentley   59.000000\n",
       "29    Lamborghini  120.000000"
      ]
     },
     "execution_count": 88,
     "metadata": {},
     "output_type": "execute_result"
    }
   ],
   "source": [
    "df2"
   ]
  },
  {
   "cell_type": "code",
   "execution_count": 84,
   "metadata": {},
   "outputs": [],
   "source": [
    "def car_band(x):\n",
    "    if x in ['Land', 'Lamborghini', 'Jaguar', 'BMW', 'Mercedes-Benz', 'Porsche',\n",
    "       'Audi', 'Bentley','Mini']:\n",
    "        return 'HIGH END CAR'    \n",
    "    elif x in ['Ford',\n",
    "            'Skoda',\n",
    "         'Mahindra',\n",
    "            'Force',\n",
    "       'Mitsubishi',\n",
    "           'Toyota',\n",
    "            'ISUZU',\n",
    "             'Jeep',\n",
    "           'Volvo',\n",
    "          'Isuzu']:\n",
    "        return 'MIDDLE RANGE CAR'\n",
    "    else:\n",
    "        return 'LOW END CAR'\n",
    "    \n",
    "    "
   ]
  },
  {
   "cell_type": "code",
   "execution_count": 91,
   "metadata": {
    "scrolled": true
   },
   "outputs": [],
   "source": [
    "df['CAR BAND'] = df['Brand']"
   ]
  },
  {
   "cell_type": "code",
   "execution_count": 94,
   "metadata": {},
   "outputs": [],
   "source": [
    "df['CAR BAND'] = df['CAR BAND'].apply(car_band)"
   ]
  },
  {
   "cell_type": "code",
   "execution_count": 103,
   "metadata": {},
   "outputs": [
    {
     "data": {
      "text/plain": [
       "Index(['Year', 'Kilometers_Driven', 'Mileage', 'Engine', 'Power', 'Seats',\n",
       "       'Price', 'HIGH END CAR', 'MIDDLE RANGE CAR', 'Automatic', 'CNG',\n",
       "       'Diesel', 'Electric', 'Petrol', 'First', 'Second', 'Third', 'Ahmedabad',\n",
       "       'Bangalore', 'Chennai', 'Coimbatore', 'Delhi', 'Hyderabad', 'Jaipur',\n",
       "       'Kolkata', 'Mumbai', 'Pune'],\n",
       "      dtype='object')"
      ]
     },
     "execution_count": 103,
     "metadata": {},
     "output_type": "execute_result"
    }
   ],
   "source": [
    "df.columns"
   ]
  },
  {
   "cell_type": "code",
   "execution_count": 71,
   "metadata": {
    "scrolled": false
   },
   "outputs": [
    {
     "data": {
      "text/plain": [
       "array(['Land', 'Lamborghini', 'Jaguar', 'BMW', 'Mercedes-Benz', 'Porsche',\n",
       "       'Audi', 'Bentley', 'Ford', 'Mini'], dtype=object)"
      ]
     },
     "execution_count": 71,
     "metadata": {},
     "output_type": "execute_result"
    }
   ],
   "source": [
    "df.sort_values('Price',ascending=False)[:200]['Brand'].unique()"
   ]
  },
  {
   "cell_type": "code",
   "execution_count": 104,
   "metadata": {},
   "outputs": [
    {
     "data": {
      "text/plain": [
       "(5949, 27)"
      ]
     },
     "execution_count": 104,
     "metadata": {},
     "output_type": "execute_result"
    }
   ],
   "source": [
    "df.shape"
   ]
  },
  {
   "cell_type": "code",
   "execution_count": 97,
   "metadata": {},
   "outputs": [],
   "source": [
    "one_hot_trans1 = pd.get_dummies(df['CAR BAND'])\n",
    "df = df.join(one_hot_trans1)\n",
    "\n",
    "one_hot_trans1 = pd.get_dummies(df['Transmission'])\n",
    "df = df.join(one_hot_trans1)\n",
    "\n",
    "one_hot_trans2 = pd.get_dummies(df['Fuel_Type'])\n",
    "df = df.join(one_hot_trans2)\n",
    "\n",
    "one_hot_trans3 = pd.get_dummies(df['Owner_Type'])\n",
    "df = df.join(one_hot_trans3)\n",
    "\n",
    "one_hot_trans1 = pd.get_dummies(df['Location'])\n",
    "df = df.join(one_hot_trans1)"
   ]
  },
  {
   "cell_type": "code",
   "execution_count": 102,
   "metadata": {},
   "outputs": [],
   "source": [
    "df.drop('CAR BAND',axis = 1,inplace = True)\n",
    "df.drop('LOW END CAR',axis = 1,inplace = True)"
   ]
  },
  {
   "cell_type": "code",
   "execution_count": 100,
   "metadata": {},
   "outputs": [],
   "source": [
    "df.drop('Transmission',axis = 1,inplace = True)\n",
    "df.drop('Fuel_Type',axis = 1,inplace = True)\n",
    "df.drop('Manual',axis = 1,inplace = True)\n",
    "df.drop('Owner_Type',axis = 1,inplace = True)\n",
    "df.drop('LPG',axis = 1,inplace = True)\n",
    "df.drop('Fourth & Above',axis = 1,inplace = True)\n",
    "df.drop('Kochi',axis = 1, inplace = True)\n",
    "df.drop('Location',axis = 1, inplace = True)\n",
    "df.drop('Name',axis = 1, inplace = True)\n",
    "df.drop('Brand',axis = 1, inplace = True)\n"
   ]
  },
  {
   "cell_type": "code",
   "execution_count": 41,
   "metadata": {},
   "outputs": [
    {
     "name": "stdout",
     "output_type": "stream",
     "text": [
      "<class 'pandas.core.frame.DataFrame'>\n",
      "Int64Index: 5949 entries, 0 to 6018\n",
      "Data columns (total 25 columns):\n",
      "Year                 5949 non-null int64\n",
      "Kilometers_Driven    5949 non-null int64\n",
      "Mileage              5949 non-null float64\n",
      "Engine               5949 non-null float64\n",
      "Power                5949 non-null float64\n",
      "Seats                5949 non-null float64\n",
      "Price                5949 non-null float64\n",
      "Ahmedabad            5949 non-null uint8\n",
      "Bangalore            5949 non-null uint8\n",
      "Chennai              5949 non-null uint8\n",
      "Coimbatore           5949 non-null uint8\n",
      "Delhi                5949 non-null uint8\n",
      "Hyderabad            5949 non-null uint8\n",
      "Jaipur               5949 non-null uint8\n",
      "Kolkata              5949 non-null uint8\n",
      "Mumbai               5949 non-null uint8\n",
      "Pune                 5949 non-null uint8\n",
      "Automatic            5949 non-null uint8\n",
      "CNG                  5949 non-null uint8\n",
      "Diesel               5949 non-null uint8\n",
      "Electric             5949 non-null uint8\n",
      "Petrol               5949 non-null uint8\n",
      "First                5949 non-null uint8\n",
      "Second               5949 non-null uint8\n",
      "Third                5949 non-null uint8\n",
      "dtypes: float64(5), int64(2), uint8(18)\n",
      "memory usage: 636.4 KB\n"
     ]
    }
   ],
   "source": [
    "df.info()"
   ]
  },
  {
   "cell_type": "markdown",
   "metadata": {},
   "source": [
    "# Data scaling of coloumns :-['Kilometer_Driven','Power','Mileage','Engine']"
   ]
  },
  {
   "cell_type": "code",
   "execution_count": 106,
   "metadata": {},
   "outputs": [
    {
     "data": {
      "text/html": [
       "<div>\n",
       "<style scoped>\n",
       "    .dataframe tbody tr th:only-of-type {\n",
       "        vertical-align: middle;\n",
       "    }\n",
       "\n",
       "    .dataframe tbody tr th {\n",
       "        vertical-align: top;\n",
       "    }\n",
       "\n",
       "    .dataframe thead th {\n",
       "        text-align: right;\n",
       "    }\n",
       "</style>\n",
       "<table border=\"1\" class=\"dataframe\">\n",
       "  <thead>\n",
       "    <tr style=\"text-align: right;\">\n",
       "      <th></th>\n",
       "      <th>Year</th>\n",
       "      <th>Kilometers_Driven</th>\n",
       "      <th>Mileage</th>\n",
       "      <th>Engine</th>\n",
       "      <th>Power</th>\n",
       "      <th>Seats</th>\n",
       "      <th>Price</th>\n",
       "      <th>HIGH END CAR</th>\n",
       "      <th>MIDDLE RANGE CAR</th>\n",
       "      <th>Automatic</th>\n",
       "      <th>...</th>\n",
       "      <th>Ahmedabad</th>\n",
       "      <th>Bangalore</th>\n",
       "      <th>Chennai</th>\n",
       "      <th>Coimbatore</th>\n",
       "      <th>Delhi</th>\n",
       "      <th>Hyderabad</th>\n",
       "      <th>Jaipur</th>\n",
       "      <th>Kolkata</th>\n",
       "      <th>Mumbai</th>\n",
       "      <th>Pune</th>\n",
       "    </tr>\n",
       "  </thead>\n",
       "  <tbody>\n",
       "    <tr>\n",
       "      <td>0</td>\n",
       "      <td>2010</td>\n",
       "      <td>72000</td>\n",
       "      <td>26.60</td>\n",
       "      <td>998.0</td>\n",
       "      <td>58.16</td>\n",
       "      <td>5.0</td>\n",
       "      <td>1.75</td>\n",
       "      <td>0</td>\n",
       "      <td>0</td>\n",
       "      <td>0</td>\n",
       "      <td>...</td>\n",
       "      <td>0</td>\n",
       "      <td>0</td>\n",
       "      <td>0</td>\n",
       "      <td>0</td>\n",
       "      <td>0</td>\n",
       "      <td>0</td>\n",
       "      <td>0</td>\n",
       "      <td>0</td>\n",
       "      <td>1</td>\n",
       "      <td>0</td>\n",
       "    </tr>\n",
       "    <tr>\n",
       "      <td>1</td>\n",
       "      <td>2015</td>\n",
       "      <td>41000</td>\n",
       "      <td>19.67</td>\n",
       "      <td>1582.0</td>\n",
       "      <td>126.20</td>\n",
       "      <td>5.0</td>\n",
       "      <td>12.50</td>\n",
       "      <td>0</td>\n",
       "      <td>0</td>\n",
       "      <td>0</td>\n",
       "      <td>...</td>\n",
       "      <td>0</td>\n",
       "      <td>0</td>\n",
       "      <td>0</td>\n",
       "      <td>0</td>\n",
       "      <td>0</td>\n",
       "      <td>0</td>\n",
       "      <td>0</td>\n",
       "      <td>0</td>\n",
       "      <td>0</td>\n",
       "      <td>1</td>\n",
       "    </tr>\n",
       "    <tr>\n",
       "      <td>2</td>\n",
       "      <td>2011</td>\n",
       "      <td>46000</td>\n",
       "      <td>18.20</td>\n",
       "      <td>1199.0</td>\n",
       "      <td>88.70</td>\n",
       "      <td>5.0</td>\n",
       "      <td>4.50</td>\n",
       "      <td>0</td>\n",
       "      <td>0</td>\n",
       "      <td>0</td>\n",
       "      <td>...</td>\n",
       "      <td>0</td>\n",
       "      <td>0</td>\n",
       "      <td>1</td>\n",
       "      <td>0</td>\n",
       "      <td>0</td>\n",
       "      <td>0</td>\n",
       "      <td>0</td>\n",
       "      <td>0</td>\n",
       "      <td>0</td>\n",
       "      <td>0</td>\n",
       "    </tr>\n",
       "    <tr>\n",
       "      <td>3</td>\n",
       "      <td>2012</td>\n",
       "      <td>87000</td>\n",
       "      <td>20.77</td>\n",
       "      <td>1248.0</td>\n",
       "      <td>88.76</td>\n",
       "      <td>7.0</td>\n",
       "      <td>6.00</td>\n",
       "      <td>0</td>\n",
       "      <td>0</td>\n",
       "      <td>0</td>\n",
       "      <td>...</td>\n",
       "      <td>0</td>\n",
       "      <td>0</td>\n",
       "      <td>1</td>\n",
       "      <td>0</td>\n",
       "      <td>0</td>\n",
       "      <td>0</td>\n",
       "      <td>0</td>\n",
       "      <td>0</td>\n",
       "      <td>0</td>\n",
       "      <td>0</td>\n",
       "    </tr>\n",
       "    <tr>\n",
       "      <td>4</td>\n",
       "      <td>2013</td>\n",
       "      <td>40670</td>\n",
       "      <td>15.20</td>\n",
       "      <td>1968.0</td>\n",
       "      <td>140.80</td>\n",
       "      <td>5.0</td>\n",
       "      <td>17.74</td>\n",
       "      <td>1</td>\n",
       "      <td>0</td>\n",
       "      <td>1</td>\n",
       "      <td>...</td>\n",
       "      <td>0</td>\n",
       "      <td>0</td>\n",
       "      <td>0</td>\n",
       "      <td>1</td>\n",
       "      <td>0</td>\n",
       "      <td>0</td>\n",
       "      <td>0</td>\n",
       "      <td>0</td>\n",
       "      <td>0</td>\n",
       "      <td>0</td>\n",
       "    </tr>\n",
       "    <tr>\n",
       "      <td>...</td>\n",
       "      <td>...</td>\n",
       "      <td>...</td>\n",
       "      <td>...</td>\n",
       "      <td>...</td>\n",
       "      <td>...</td>\n",
       "      <td>...</td>\n",
       "      <td>...</td>\n",
       "      <td>...</td>\n",
       "      <td>...</td>\n",
       "      <td>...</td>\n",
       "      <td>...</td>\n",
       "      <td>...</td>\n",
       "      <td>...</td>\n",
       "      <td>...</td>\n",
       "      <td>...</td>\n",
       "      <td>...</td>\n",
       "      <td>...</td>\n",
       "      <td>...</td>\n",
       "      <td>...</td>\n",
       "      <td>...</td>\n",
       "      <td>...</td>\n",
       "    </tr>\n",
       "    <tr>\n",
       "      <td>6014</td>\n",
       "      <td>2014</td>\n",
       "      <td>27365</td>\n",
       "      <td>28.40</td>\n",
       "      <td>1248.0</td>\n",
       "      <td>74.00</td>\n",
       "      <td>5.0</td>\n",
       "      <td>4.75</td>\n",
       "      <td>0</td>\n",
       "      <td>0</td>\n",
       "      <td>0</td>\n",
       "      <td>...</td>\n",
       "      <td>0</td>\n",
       "      <td>0</td>\n",
       "      <td>0</td>\n",
       "      <td>0</td>\n",
       "      <td>1</td>\n",
       "      <td>0</td>\n",
       "      <td>0</td>\n",
       "      <td>0</td>\n",
       "      <td>0</td>\n",
       "      <td>0</td>\n",
       "    </tr>\n",
       "    <tr>\n",
       "      <td>6015</td>\n",
       "      <td>2015</td>\n",
       "      <td>100000</td>\n",
       "      <td>24.40</td>\n",
       "      <td>1120.0</td>\n",
       "      <td>71.00</td>\n",
       "      <td>5.0</td>\n",
       "      <td>4.00</td>\n",
       "      <td>0</td>\n",
       "      <td>0</td>\n",
       "      <td>0</td>\n",
       "      <td>...</td>\n",
       "      <td>0</td>\n",
       "      <td>0</td>\n",
       "      <td>0</td>\n",
       "      <td>0</td>\n",
       "      <td>0</td>\n",
       "      <td>0</td>\n",
       "      <td>1</td>\n",
       "      <td>0</td>\n",
       "      <td>0</td>\n",
       "      <td>0</td>\n",
       "    </tr>\n",
       "    <tr>\n",
       "      <td>6016</td>\n",
       "      <td>2012</td>\n",
       "      <td>55000</td>\n",
       "      <td>14.00</td>\n",
       "      <td>2498.0</td>\n",
       "      <td>112.00</td>\n",
       "      <td>8.0</td>\n",
       "      <td>2.90</td>\n",
       "      <td>0</td>\n",
       "      <td>1</td>\n",
       "      <td>0</td>\n",
       "      <td>...</td>\n",
       "      <td>0</td>\n",
       "      <td>0</td>\n",
       "      <td>0</td>\n",
       "      <td>0</td>\n",
       "      <td>0</td>\n",
       "      <td>0</td>\n",
       "      <td>1</td>\n",
       "      <td>0</td>\n",
       "      <td>0</td>\n",
       "      <td>0</td>\n",
       "    </tr>\n",
       "    <tr>\n",
       "      <td>6017</td>\n",
       "      <td>2013</td>\n",
       "      <td>46000</td>\n",
       "      <td>18.90</td>\n",
       "      <td>998.0</td>\n",
       "      <td>67.10</td>\n",
       "      <td>5.0</td>\n",
       "      <td>2.65</td>\n",
       "      <td>0</td>\n",
       "      <td>0</td>\n",
       "      <td>0</td>\n",
       "      <td>...</td>\n",
       "      <td>0</td>\n",
       "      <td>0</td>\n",
       "      <td>0</td>\n",
       "      <td>0</td>\n",
       "      <td>0</td>\n",
       "      <td>0</td>\n",
       "      <td>0</td>\n",
       "      <td>1</td>\n",
       "      <td>0</td>\n",
       "      <td>0</td>\n",
       "    </tr>\n",
       "    <tr>\n",
       "      <td>6018</td>\n",
       "      <td>2011</td>\n",
       "      <td>47000</td>\n",
       "      <td>25.44</td>\n",
       "      <td>936.0</td>\n",
       "      <td>57.60</td>\n",
       "      <td>5.0</td>\n",
       "      <td>2.50</td>\n",
       "      <td>0</td>\n",
       "      <td>0</td>\n",
       "      <td>0</td>\n",
       "      <td>...</td>\n",
       "      <td>0</td>\n",
       "      <td>0</td>\n",
       "      <td>0</td>\n",
       "      <td>0</td>\n",
       "      <td>0</td>\n",
       "      <td>1</td>\n",
       "      <td>0</td>\n",
       "      <td>0</td>\n",
       "      <td>0</td>\n",
       "      <td>0</td>\n",
       "    </tr>\n",
       "  </tbody>\n",
       "</table>\n",
       "<p>5949 rows × 27 columns</p>\n",
       "</div>"
      ],
      "text/plain": [
       "      Year  Kilometers_Driven  Mileage  Engine   Power  Seats  Price  \\\n",
       "0     2010              72000    26.60   998.0   58.16    5.0   1.75   \n",
       "1     2015              41000    19.67  1582.0  126.20    5.0  12.50   \n",
       "2     2011              46000    18.20  1199.0   88.70    5.0   4.50   \n",
       "3     2012              87000    20.77  1248.0   88.76    7.0   6.00   \n",
       "4     2013              40670    15.20  1968.0  140.80    5.0  17.74   \n",
       "...    ...                ...      ...     ...     ...    ...    ...   \n",
       "6014  2014              27365    28.40  1248.0   74.00    5.0   4.75   \n",
       "6015  2015             100000    24.40  1120.0   71.00    5.0   4.00   \n",
       "6016  2012              55000    14.00  2498.0  112.00    8.0   2.90   \n",
       "6017  2013              46000    18.90   998.0   67.10    5.0   2.65   \n",
       "6018  2011              47000    25.44   936.0   57.60    5.0   2.50   \n",
       "\n",
       "      HIGH END CAR  MIDDLE RANGE CAR  Automatic  ...  Ahmedabad  Bangalore  \\\n",
       "0                0                 0          0  ...          0          0   \n",
       "1                0                 0          0  ...          0          0   \n",
       "2                0                 0          0  ...          0          0   \n",
       "3                0                 0          0  ...          0          0   \n",
       "4                1                 0          1  ...          0          0   \n",
       "...            ...               ...        ...  ...        ...        ...   \n",
       "6014             0                 0          0  ...          0          0   \n",
       "6015             0                 0          0  ...          0          0   \n",
       "6016             0                 1          0  ...          0          0   \n",
       "6017             0                 0          0  ...          0          0   \n",
       "6018             0                 0          0  ...          0          0   \n",
       "\n",
       "      Chennai  Coimbatore  Delhi  Hyderabad  Jaipur  Kolkata  Mumbai  Pune  \n",
       "0           0           0      0          0       0        0       1     0  \n",
       "1           0           0      0          0       0        0       0     1  \n",
       "2           1           0      0          0       0        0       0     0  \n",
       "3           1           0      0          0       0        0       0     0  \n",
       "4           0           1      0          0       0        0       0     0  \n",
       "...       ...         ...    ...        ...     ...      ...     ...   ...  \n",
       "6014        0           0      1          0       0        0       0     0  \n",
       "6015        0           0      0          0       1        0       0     0  \n",
       "6016        0           0      0          0       1        0       0     0  \n",
       "6017        0           0      0          0       0        1       0     0  \n",
       "6018        0           0      0          1       0        0       0     0  \n",
       "\n",
       "[5949 rows x 27 columns]"
      ]
     },
     "execution_count": 106,
     "metadata": {},
     "output_type": "execute_result"
    }
   ],
   "source": [
    "df"
   ]
  },
  {
   "cell_type": "code",
   "execution_count": 108,
   "metadata": {},
   "outputs": [
    {
     "data": {
      "text/plain": [
       "Index(['Year', 'Kilometers_Driven', 'Mileage', 'Engine', 'Power', 'Seats',\n",
       "       'Price', 'HIGH END CAR', 'MIDDLE RANGE CAR', 'Automatic', 'CNG',\n",
       "       'Diesel', 'Electric', 'Petrol', 'First', 'Second', 'Third', 'Ahmedabad',\n",
       "       'Bangalore', 'Chennai', 'Coimbatore', 'Delhi', 'Hyderabad', 'Jaipur',\n",
       "       'Kolkata', 'Mumbai', 'Pune'],\n",
       "      dtype='object')"
      ]
     },
     "execution_count": 108,
     "metadata": {},
     "output_type": "execute_result"
    }
   ],
   "source": [
    "df.columns"
   ]
  },
  {
   "cell_type": "code",
   "execution_count": 109,
   "metadata": {},
   "outputs": [
    {
     "data": {
      "text/html": [
       "<div>\n",
       "<style scoped>\n",
       "    .dataframe tbody tr th:only-of-type {\n",
       "        vertical-align: middle;\n",
       "    }\n",
       "\n",
       "    .dataframe tbody tr th {\n",
       "        vertical-align: top;\n",
       "    }\n",
       "\n",
       "    .dataframe thead th {\n",
       "        text-align: right;\n",
       "    }\n",
       "</style>\n",
       "<table border=\"1\" class=\"dataframe\">\n",
       "  <thead>\n",
       "    <tr style=\"text-align: right;\">\n",
       "      <th></th>\n",
       "      <th>Year</th>\n",
       "      <th>Kilometers_Driven</th>\n",
       "      <th>Mileage</th>\n",
       "      <th>Engine</th>\n",
       "      <th>Power</th>\n",
       "      <th>Seats</th>\n",
       "      <th>Price</th>\n",
       "      <th>HIGH END CAR</th>\n",
       "      <th>MIDDLE RANGE CAR</th>\n",
       "      <th>Automatic</th>\n",
       "      <th>...</th>\n",
       "      <th>Ahmedabad</th>\n",
       "      <th>Bangalore</th>\n",
       "      <th>Chennai</th>\n",
       "      <th>Coimbatore</th>\n",
       "      <th>Delhi</th>\n",
       "      <th>Hyderabad</th>\n",
       "      <th>Jaipur</th>\n",
       "      <th>Kolkata</th>\n",
       "      <th>Mumbai</th>\n",
       "      <th>Pune</th>\n",
       "    </tr>\n",
       "  </thead>\n",
       "  <tbody>\n",
       "    <tr>\n",
       "      <td>0</td>\n",
       "      <td>2010</td>\n",
       "      <td>72000</td>\n",
       "      <td>26.60</td>\n",
       "      <td>998.0</td>\n",
       "      <td>58.16</td>\n",
       "      <td>5.0</td>\n",
       "      <td>1.75</td>\n",
       "      <td>0</td>\n",
       "      <td>0</td>\n",
       "      <td>0</td>\n",
       "      <td>...</td>\n",
       "      <td>0</td>\n",
       "      <td>0</td>\n",
       "      <td>0</td>\n",
       "      <td>0</td>\n",
       "      <td>0</td>\n",
       "      <td>0</td>\n",
       "      <td>0</td>\n",
       "      <td>0</td>\n",
       "      <td>1</td>\n",
       "      <td>0</td>\n",
       "    </tr>\n",
       "    <tr>\n",
       "      <td>1</td>\n",
       "      <td>2015</td>\n",
       "      <td>41000</td>\n",
       "      <td>19.67</td>\n",
       "      <td>1582.0</td>\n",
       "      <td>126.20</td>\n",
       "      <td>5.0</td>\n",
       "      <td>12.50</td>\n",
       "      <td>0</td>\n",
       "      <td>0</td>\n",
       "      <td>0</td>\n",
       "      <td>...</td>\n",
       "      <td>0</td>\n",
       "      <td>0</td>\n",
       "      <td>0</td>\n",
       "      <td>0</td>\n",
       "      <td>0</td>\n",
       "      <td>0</td>\n",
       "      <td>0</td>\n",
       "      <td>0</td>\n",
       "      <td>0</td>\n",
       "      <td>1</td>\n",
       "    </tr>\n",
       "    <tr>\n",
       "      <td>2</td>\n",
       "      <td>2011</td>\n",
       "      <td>46000</td>\n",
       "      <td>18.20</td>\n",
       "      <td>1199.0</td>\n",
       "      <td>88.70</td>\n",
       "      <td>5.0</td>\n",
       "      <td>4.50</td>\n",
       "      <td>0</td>\n",
       "      <td>0</td>\n",
       "      <td>0</td>\n",
       "      <td>...</td>\n",
       "      <td>0</td>\n",
       "      <td>0</td>\n",
       "      <td>1</td>\n",
       "      <td>0</td>\n",
       "      <td>0</td>\n",
       "      <td>0</td>\n",
       "      <td>0</td>\n",
       "      <td>0</td>\n",
       "      <td>0</td>\n",
       "      <td>0</td>\n",
       "    </tr>\n",
       "    <tr>\n",
       "      <td>3</td>\n",
       "      <td>2012</td>\n",
       "      <td>87000</td>\n",
       "      <td>20.77</td>\n",
       "      <td>1248.0</td>\n",
       "      <td>88.76</td>\n",
       "      <td>7.0</td>\n",
       "      <td>6.00</td>\n",
       "      <td>0</td>\n",
       "      <td>0</td>\n",
       "      <td>0</td>\n",
       "      <td>...</td>\n",
       "      <td>0</td>\n",
       "      <td>0</td>\n",
       "      <td>1</td>\n",
       "      <td>0</td>\n",
       "      <td>0</td>\n",
       "      <td>0</td>\n",
       "      <td>0</td>\n",
       "      <td>0</td>\n",
       "      <td>0</td>\n",
       "      <td>0</td>\n",
       "    </tr>\n",
       "    <tr>\n",
       "      <td>4</td>\n",
       "      <td>2013</td>\n",
       "      <td>40670</td>\n",
       "      <td>15.20</td>\n",
       "      <td>1968.0</td>\n",
       "      <td>140.80</td>\n",
       "      <td>5.0</td>\n",
       "      <td>17.74</td>\n",
       "      <td>1</td>\n",
       "      <td>0</td>\n",
       "      <td>1</td>\n",
       "      <td>...</td>\n",
       "      <td>0</td>\n",
       "      <td>0</td>\n",
       "      <td>0</td>\n",
       "      <td>1</td>\n",
       "      <td>0</td>\n",
       "      <td>0</td>\n",
       "      <td>0</td>\n",
       "      <td>0</td>\n",
       "      <td>0</td>\n",
       "      <td>0</td>\n",
       "    </tr>\n",
       "  </tbody>\n",
       "</table>\n",
       "<p>5 rows × 27 columns</p>\n",
       "</div>"
      ],
      "text/plain": [
       "   Year  Kilometers_Driven  Mileage  Engine   Power  Seats  Price  \\\n",
       "0  2010              72000    26.60   998.0   58.16    5.0   1.75   \n",
       "1  2015              41000    19.67  1582.0  126.20    5.0  12.50   \n",
       "2  2011              46000    18.20  1199.0   88.70    5.0   4.50   \n",
       "3  2012              87000    20.77  1248.0   88.76    7.0   6.00   \n",
       "4  2013              40670    15.20  1968.0  140.80    5.0  17.74   \n",
       "\n",
       "   HIGH END CAR  MIDDLE RANGE CAR  Automatic  ...  Ahmedabad  Bangalore  \\\n",
       "0             0                 0          0  ...          0          0   \n",
       "1             0                 0          0  ...          0          0   \n",
       "2             0                 0          0  ...          0          0   \n",
       "3             0                 0          0  ...          0          0   \n",
       "4             1                 0          1  ...          0          0   \n",
       "\n",
       "   Chennai  Coimbatore  Delhi  Hyderabad  Jaipur  Kolkata  Mumbai  Pune  \n",
       "0        0           0      0          0       0        0       1     0  \n",
       "1        0           0      0          0       0        0       0     1  \n",
       "2        1           0      0          0       0        0       0     0  \n",
       "3        1           0      0          0       0        0       0     0  \n",
       "4        0           1      0          0       0        0       0     0  \n",
       "\n",
       "[5 rows x 27 columns]"
      ]
     },
     "execution_count": 109,
     "metadata": {},
     "output_type": "execute_result"
    }
   ],
   "source": [
    "LE_DT = df\n",
    "LE_DT.head()"
   ]
  },
  {
   "cell_type": "code",
   "execution_count": 110,
   "metadata": {},
   "outputs": [],
   "source": [
    "# scaling the columns KMs_driven, mileage, power and engine using Standardisation\n",
    "\n",
    "from sklearn.preprocessing import StandardScaler\n",
    "scaler = StandardScaler()\n",
    "LE_DT['KMs_scaled'] = scaler.fit_transform(LE_DT[['Kilometers_Driven']])\n",
    "LE_DT['Mileage_scaled'] = scaler.fit_transform(LE_DT[['Mileage']])\n",
    "LE_DT['Engine_scaled'] = scaler.fit_transform(LE_DT[['Engine']])\n",
    "LE_DT['Power_scaled'] = scaler.fit_transform(LE_DT[['Power']])"
   ]
  },
  {
   "cell_type": "code",
   "execution_count": 111,
   "metadata": {},
   "outputs": [
    {
     "data": {
      "text/html": [
       "<div>\n",
       "<style scoped>\n",
       "    .dataframe tbody tr th:only-of-type {\n",
       "        vertical-align: middle;\n",
       "    }\n",
       "\n",
       "    .dataframe tbody tr th {\n",
       "        vertical-align: top;\n",
       "    }\n",
       "\n",
       "    .dataframe thead th {\n",
       "        text-align: right;\n",
       "    }\n",
       "</style>\n",
       "<table border=\"1\" class=\"dataframe\">\n",
       "  <thead>\n",
       "    <tr style=\"text-align: right;\">\n",
       "      <th></th>\n",
       "      <th>Year</th>\n",
       "      <th>Kilometers_Driven</th>\n",
       "      <th>Mileage</th>\n",
       "      <th>Engine</th>\n",
       "      <th>Power</th>\n",
       "      <th>Seats</th>\n",
       "      <th>Price</th>\n",
       "      <th>HIGH END CAR</th>\n",
       "      <th>MIDDLE RANGE CAR</th>\n",
       "      <th>Automatic</th>\n",
       "      <th>...</th>\n",
       "      <th>Delhi</th>\n",
       "      <th>Hyderabad</th>\n",
       "      <th>Jaipur</th>\n",
       "      <th>Kolkata</th>\n",
       "      <th>Mumbai</th>\n",
       "      <th>Pune</th>\n",
       "      <th>KMs_scaled</th>\n",
       "      <th>Mileage_scaled</th>\n",
       "      <th>Engine_scaled</th>\n",
       "      <th>Power_scaled</th>\n",
       "    </tr>\n",
       "  </thead>\n",
       "  <tbody>\n",
       "    <tr>\n",
       "      <td>0</td>\n",
       "      <td>2010</td>\n",
       "      <td>72000</td>\n",
       "      <td>26.60</td>\n",
       "      <td>998.0</td>\n",
       "      <td>58.16</td>\n",
       "      <td>5.0</td>\n",
       "      <td>1.75</td>\n",
       "      <td>0</td>\n",
       "      <td>0</td>\n",
       "      <td>0</td>\n",
       "      <td>...</td>\n",
       "      <td>0</td>\n",
       "      <td>0</td>\n",
       "      <td>0</td>\n",
       "      <td>0</td>\n",
       "      <td>1</td>\n",
       "      <td>0</td>\n",
       "      <td>0.384528</td>\n",
       "      <td>1.978090</td>\n",
       "      <td>-1.040981</td>\n",
       "      <td>-1.030531</td>\n",
       "    </tr>\n",
       "    <tr>\n",
       "      <td>1</td>\n",
       "      <td>2015</td>\n",
       "      <td>41000</td>\n",
       "      <td>19.67</td>\n",
       "      <td>1582.0</td>\n",
       "      <td>126.20</td>\n",
       "      <td>5.0</td>\n",
       "      <td>12.50</td>\n",
       "      <td>0</td>\n",
       "      <td>0</td>\n",
       "      <td>0</td>\n",
       "      <td>...</td>\n",
       "      <td>0</td>\n",
       "      <td>0</td>\n",
       "      <td>0</td>\n",
       "      <td>0</td>\n",
       "      <td>0</td>\n",
       "      <td>1</td>\n",
       "      <td>-0.436482</td>\n",
       "      <td>0.317722</td>\n",
       "      <td>-0.062755</td>\n",
       "      <td>0.245812</td>\n",
       "    </tr>\n",
       "    <tr>\n",
       "      <td>2</td>\n",
       "      <td>2011</td>\n",
       "      <td>46000</td>\n",
       "      <td>18.20</td>\n",
       "      <td>1199.0</td>\n",
       "      <td>88.70</td>\n",
       "      <td>5.0</td>\n",
       "      <td>4.50</td>\n",
       "      <td>0</td>\n",
       "      <td>0</td>\n",
       "      <td>0</td>\n",
       "      <td>...</td>\n",
       "      <td>0</td>\n",
       "      <td>0</td>\n",
       "      <td>0</td>\n",
       "      <td>0</td>\n",
       "      <td>0</td>\n",
       "      <td>0</td>\n",
       "      <td>-0.304061</td>\n",
       "      <td>-0.034477</td>\n",
       "      <td>-0.704297</td>\n",
       "      <td>-0.457640</td>\n",
       "    </tr>\n",
       "    <tr>\n",
       "      <td>3</td>\n",
       "      <td>2012</td>\n",
       "      <td>87000</td>\n",
       "      <td>20.77</td>\n",
       "      <td>1248.0</td>\n",
       "      <td>88.76</td>\n",
       "      <td>7.0</td>\n",
       "      <td>6.00</td>\n",
       "      <td>0</td>\n",
       "      <td>0</td>\n",
       "      <td>0</td>\n",
       "      <td>...</td>\n",
       "      <td>0</td>\n",
       "      <td>0</td>\n",
       "      <td>0</td>\n",
       "      <td>0</td>\n",
       "      <td>0</td>\n",
       "      <td>0</td>\n",
       "      <td>0.781790</td>\n",
       "      <td>0.581273</td>\n",
       "      <td>-0.622220</td>\n",
       "      <td>-0.456515</td>\n",
       "    </tr>\n",
       "    <tr>\n",
       "      <td>4</td>\n",
       "      <td>2013</td>\n",
       "      <td>40670</td>\n",
       "      <td>15.20</td>\n",
       "      <td>1968.0</td>\n",
       "      <td>140.80</td>\n",
       "      <td>5.0</td>\n",
       "      <td>17.74</td>\n",
       "      <td>1</td>\n",
       "      <td>0</td>\n",
       "      <td>1</td>\n",
       "      <td>...</td>\n",
       "      <td>0</td>\n",
       "      <td>0</td>\n",
       "      <td>0</td>\n",
       "      <td>0</td>\n",
       "      <td>0</td>\n",
       "      <td>0</td>\n",
       "      <td>-0.445221</td>\n",
       "      <td>-0.753251</td>\n",
       "      <td>0.583812</td>\n",
       "      <td>0.519689</td>\n",
       "    </tr>\n",
       "  </tbody>\n",
       "</table>\n",
       "<p>5 rows × 31 columns</p>\n",
       "</div>"
      ],
      "text/plain": [
       "   Year  Kilometers_Driven  Mileage  Engine   Power  Seats  Price  \\\n",
       "0  2010              72000    26.60   998.0   58.16    5.0   1.75   \n",
       "1  2015              41000    19.67  1582.0  126.20    5.0  12.50   \n",
       "2  2011              46000    18.20  1199.0   88.70    5.0   4.50   \n",
       "3  2012              87000    20.77  1248.0   88.76    7.0   6.00   \n",
       "4  2013              40670    15.20  1968.0  140.80    5.0  17.74   \n",
       "\n",
       "   HIGH END CAR  MIDDLE RANGE CAR  Automatic  ...  Delhi  Hyderabad  Jaipur  \\\n",
       "0             0                 0          0  ...      0          0       0   \n",
       "1             0                 0          0  ...      0          0       0   \n",
       "2             0                 0          0  ...      0          0       0   \n",
       "3             0                 0          0  ...      0          0       0   \n",
       "4             1                 0          1  ...      0          0       0   \n",
       "\n",
       "   Kolkata  Mumbai  Pune  KMs_scaled  Mileage_scaled  Engine_scaled  \\\n",
       "0        0       1     0    0.384528        1.978090      -1.040981   \n",
       "1        0       0     1   -0.436482        0.317722      -0.062755   \n",
       "2        0       0     0   -0.304061       -0.034477      -0.704297   \n",
       "3        0       0     0    0.781790        0.581273      -0.622220   \n",
       "4        0       0     0   -0.445221       -0.753251       0.583812   \n",
       "\n",
       "   Power_scaled  \n",
       "0     -1.030531  \n",
       "1      0.245812  \n",
       "2     -0.457640  \n",
       "3     -0.456515  \n",
       "4      0.519689  \n",
       "\n",
       "[5 rows x 31 columns]"
      ]
     },
     "execution_count": 111,
     "metadata": {},
     "output_type": "execute_result"
    }
   ],
   "source": [
    "LE_DT.head()"
   ]
  },
  {
   "cell_type": "code",
   "execution_count": 112,
   "metadata": {},
   "outputs": [
    {
     "data": {
      "text/plain": [
       "Index(['Year', 'Kilometers_Driven', 'Mileage', 'Engine', 'Power', 'Seats',\n",
       "       'Price', 'HIGH END CAR', 'MIDDLE RANGE CAR', 'Automatic', 'CNG',\n",
       "       'Diesel', 'Electric', 'Petrol', 'First', 'Second', 'Third', 'Ahmedabad',\n",
       "       'Bangalore', 'Chennai', 'Coimbatore', 'Delhi', 'Hyderabad', 'Jaipur',\n",
       "       'Kolkata', 'Mumbai', 'Pune', 'KMs_scaled', 'Mileage_scaled',\n",
       "       'Engine_scaled', 'Power_scaled'],\n",
       "      dtype='object')"
      ]
     },
     "execution_count": 112,
     "metadata": {},
     "output_type": "execute_result"
    }
   ],
   "source": [
    "df.columns"
   ]
  },
  {
   "cell_type": "code",
   "execution_count": 139,
   "metadata": {},
   "outputs": [],
   "source": [
    "\n",
    "df1 = df[['Year', 'Kilometers_Driven', 'Mileage', 'Engine', 'Power', 'Seats',\n",
    "       'Price', 'HIGH END CAR', 'MIDDLE RANGE CAR', 'Automatic', 'CNG',\n",
    "       'Diesel', 'Electric', 'Petrol', 'First', 'Second', 'Third', 'Ahmedabad',\n",
    "       'Bangalore', 'Chennai', 'Coimbatore', 'Delhi', 'Hyderabad', 'Jaipur',\n",
    "       'Kolkata', 'Mumbai', 'Pune']]"
   ]
  },
  {
   "cell_type": "code",
   "execution_count": 128,
   "metadata": {},
   "outputs": [
    {
     "data": {
      "text/html": [
       "<div>\n",
       "<style scoped>\n",
       "    .dataframe tbody tr th:only-of-type {\n",
       "        vertical-align: middle;\n",
       "    }\n",
       "\n",
       "    .dataframe tbody tr th {\n",
       "        vertical-align: top;\n",
       "    }\n",
       "\n",
       "    .dataframe thead th {\n",
       "        text-align: right;\n",
       "    }\n",
       "</style>\n",
       "<table border=\"1\" class=\"dataframe\">\n",
       "  <thead>\n",
       "    <tr style=\"text-align: right;\">\n",
       "      <th></th>\n",
       "      <th>Year</th>\n",
       "      <th>Seats</th>\n",
       "      <th>Price</th>\n",
       "      <th>Ahmedabad</th>\n",
       "      <th>Bangalore</th>\n",
       "      <th>Chennai</th>\n",
       "      <th>Coimbatore</th>\n",
       "      <th>Delhi</th>\n",
       "      <th>Hyderabad</th>\n",
       "      <th>Jaipur</th>\n",
       "      <th>...</th>\n",
       "      <th>Diesel</th>\n",
       "      <th>Electric</th>\n",
       "      <th>Petrol</th>\n",
       "      <th>First</th>\n",
       "      <th>Second</th>\n",
       "      <th>Third</th>\n",
       "      <th>KMs_scaled</th>\n",
       "      <th>Mileage_scaled</th>\n",
       "      <th>Engine_scaled</th>\n",
       "      <th>Power_scaled</th>\n",
       "    </tr>\n",
       "  </thead>\n",
       "  <tbody>\n",
       "    <tr>\n",
       "      <td>0</td>\n",
       "      <td>2010</td>\n",
       "      <td>5.0</td>\n",
       "      <td>1.75</td>\n",
       "      <td>0</td>\n",
       "      <td>0</td>\n",
       "      <td>0</td>\n",
       "      <td>0</td>\n",
       "      <td>0</td>\n",
       "      <td>0</td>\n",
       "      <td>0</td>\n",
       "      <td>...</td>\n",
       "      <td>0</td>\n",
       "      <td>0</td>\n",
       "      <td>0</td>\n",
       "      <td>1</td>\n",
       "      <td>0</td>\n",
       "      <td>0</td>\n",
       "      <td>0.384528</td>\n",
       "      <td>1.978090</td>\n",
       "      <td>-1.040981</td>\n",
       "      <td>-1.030531</td>\n",
       "    </tr>\n",
       "    <tr>\n",
       "      <td>1</td>\n",
       "      <td>2015</td>\n",
       "      <td>5.0</td>\n",
       "      <td>12.50</td>\n",
       "      <td>0</td>\n",
       "      <td>0</td>\n",
       "      <td>0</td>\n",
       "      <td>0</td>\n",
       "      <td>0</td>\n",
       "      <td>0</td>\n",
       "      <td>0</td>\n",
       "      <td>...</td>\n",
       "      <td>1</td>\n",
       "      <td>0</td>\n",
       "      <td>0</td>\n",
       "      <td>1</td>\n",
       "      <td>0</td>\n",
       "      <td>0</td>\n",
       "      <td>-0.436482</td>\n",
       "      <td>0.317722</td>\n",
       "      <td>-0.062755</td>\n",
       "      <td>0.245812</td>\n",
       "    </tr>\n",
       "    <tr>\n",
       "      <td>2</td>\n",
       "      <td>2011</td>\n",
       "      <td>5.0</td>\n",
       "      <td>4.50</td>\n",
       "      <td>0</td>\n",
       "      <td>0</td>\n",
       "      <td>1</td>\n",
       "      <td>0</td>\n",
       "      <td>0</td>\n",
       "      <td>0</td>\n",
       "      <td>0</td>\n",
       "      <td>...</td>\n",
       "      <td>0</td>\n",
       "      <td>0</td>\n",
       "      <td>1</td>\n",
       "      <td>1</td>\n",
       "      <td>0</td>\n",
       "      <td>0</td>\n",
       "      <td>-0.304061</td>\n",
       "      <td>-0.034477</td>\n",
       "      <td>-0.704297</td>\n",
       "      <td>-0.457640</td>\n",
       "    </tr>\n",
       "    <tr>\n",
       "      <td>3</td>\n",
       "      <td>2012</td>\n",
       "      <td>7.0</td>\n",
       "      <td>6.00</td>\n",
       "      <td>0</td>\n",
       "      <td>0</td>\n",
       "      <td>1</td>\n",
       "      <td>0</td>\n",
       "      <td>0</td>\n",
       "      <td>0</td>\n",
       "      <td>0</td>\n",
       "      <td>...</td>\n",
       "      <td>1</td>\n",
       "      <td>0</td>\n",
       "      <td>0</td>\n",
       "      <td>1</td>\n",
       "      <td>0</td>\n",
       "      <td>0</td>\n",
       "      <td>0.781790</td>\n",
       "      <td>0.581273</td>\n",
       "      <td>-0.622220</td>\n",
       "      <td>-0.456515</td>\n",
       "    </tr>\n",
       "    <tr>\n",
       "      <td>4</td>\n",
       "      <td>2013</td>\n",
       "      <td>5.0</td>\n",
       "      <td>17.74</td>\n",
       "      <td>0</td>\n",
       "      <td>0</td>\n",
       "      <td>0</td>\n",
       "      <td>1</td>\n",
       "      <td>0</td>\n",
       "      <td>0</td>\n",
       "      <td>0</td>\n",
       "      <td>...</td>\n",
       "      <td>1</td>\n",
       "      <td>0</td>\n",
       "      <td>0</td>\n",
       "      <td>0</td>\n",
       "      <td>1</td>\n",
       "      <td>0</td>\n",
       "      <td>-0.445221</td>\n",
       "      <td>-0.753251</td>\n",
       "      <td>0.583812</td>\n",
       "      <td>0.519689</td>\n",
       "    </tr>\n",
       "    <tr>\n",
       "      <td>...</td>\n",
       "      <td>...</td>\n",
       "      <td>...</td>\n",
       "      <td>...</td>\n",
       "      <td>...</td>\n",
       "      <td>...</td>\n",
       "      <td>...</td>\n",
       "      <td>...</td>\n",
       "      <td>...</td>\n",
       "      <td>...</td>\n",
       "      <td>...</td>\n",
       "      <td>...</td>\n",
       "      <td>...</td>\n",
       "      <td>...</td>\n",
       "      <td>...</td>\n",
       "      <td>...</td>\n",
       "      <td>...</td>\n",
       "      <td>...</td>\n",
       "      <td>...</td>\n",
       "      <td>...</td>\n",
       "      <td>...</td>\n",
       "      <td>...</td>\n",
       "    </tr>\n",
       "    <tr>\n",
       "      <td>6014</td>\n",
       "      <td>2014</td>\n",
       "      <td>5.0</td>\n",
       "      <td>4.75</td>\n",
       "      <td>0</td>\n",
       "      <td>0</td>\n",
       "      <td>0</td>\n",
       "      <td>0</td>\n",
       "      <td>1</td>\n",
       "      <td>0</td>\n",
       "      <td>0</td>\n",
       "      <td>...</td>\n",
       "      <td>1</td>\n",
       "      <td>0</td>\n",
       "      <td>0</td>\n",
       "      <td>1</td>\n",
       "      <td>0</td>\n",
       "      <td>0</td>\n",
       "      <td>-0.797593</td>\n",
       "      <td>2.409354</td>\n",
       "      <td>-0.622220</td>\n",
       "      <td>-0.733393</td>\n",
       "    </tr>\n",
       "    <tr>\n",
       "      <td>6015</td>\n",
       "      <td>2015</td>\n",
       "      <td>5.0</td>\n",
       "      <td>4.00</td>\n",
       "      <td>0</td>\n",
       "      <td>0</td>\n",
       "      <td>0</td>\n",
       "      <td>0</td>\n",
       "      <td>0</td>\n",
       "      <td>0</td>\n",
       "      <td>1</td>\n",
       "      <td>...</td>\n",
       "      <td>1</td>\n",
       "      <td>0</td>\n",
       "      <td>0</td>\n",
       "      <td>1</td>\n",
       "      <td>0</td>\n",
       "      <td>0</td>\n",
       "      <td>1.126084</td>\n",
       "      <td>1.450989</td>\n",
       "      <td>-0.836626</td>\n",
       "      <td>-0.789669</td>\n",
       "    </tr>\n",
       "    <tr>\n",
       "      <td>6016</td>\n",
       "      <td>2012</td>\n",
       "      <td>8.0</td>\n",
       "      <td>2.90</td>\n",
       "      <td>0</td>\n",
       "      <td>0</td>\n",
       "      <td>0</td>\n",
       "      <td>0</td>\n",
       "      <td>0</td>\n",
       "      <td>0</td>\n",
       "      <td>1</td>\n",
       "      <td>...</td>\n",
       "      <td>1</td>\n",
       "      <td>0</td>\n",
       "      <td>0</td>\n",
       "      <td>0</td>\n",
       "      <td>1</td>\n",
       "      <td>0</td>\n",
       "      <td>-0.065703</td>\n",
       "      <td>-1.040761</td>\n",
       "      <td>1.471586</td>\n",
       "      <td>-0.020562</td>\n",
       "    </tr>\n",
       "    <tr>\n",
       "      <td>6017</td>\n",
       "      <td>2013</td>\n",
       "      <td>5.0</td>\n",
       "      <td>2.65</td>\n",
       "      <td>0</td>\n",
       "      <td>0</td>\n",
       "      <td>0</td>\n",
       "      <td>0</td>\n",
       "      <td>0</td>\n",
       "      <td>0</td>\n",
       "      <td>0</td>\n",
       "      <td>...</td>\n",
       "      <td>0</td>\n",
       "      <td>0</td>\n",
       "      <td>1</td>\n",
       "      <td>1</td>\n",
       "      <td>0</td>\n",
       "      <td>0</td>\n",
       "      <td>-0.304061</td>\n",
       "      <td>0.133237</td>\n",
       "      <td>-1.040981</td>\n",
       "      <td>-0.862828</td>\n",
       "    </tr>\n",
       "    <tr>\n",
       "      <td>6018</td>\n",
       "      <td>2011</td>\n",
       "      <td>5.0</td>\n",
       "      <td>2.50</td>\n",
       "      <td>0</td>\n",
       "      <td>0</td>\n",
       "      <td>0</td>\n",
       "      <td>0</td>\n",
       "      <td>0</td>\n",
       "      <td>1</td>\n",
       "      <td>0</td>\n",
       "      <td>...</td>\n",
       "      <td>1</td>\n",
       "      <td>0</td>\n",
       "      <td>0</td>\n",
       "      <td>1</td>\n",
       "      <td>0</td>\n",
       "      <td>0</td>\n",
       "      <td>-0.277577</td>\n",
       "      <td>1.700164</td>\n",
       "      <td>-1.144834</td>\n",
       "      <td>-1.041036</td>\n",
       "    </tr>\n",
       "  </tbody>\n",
       "</table>\n",
       "<p>5949 rows × 25 columns</p>\n",
       "</div>"
      ],
      "text/plain": [
       "      Year  Seats  Price  Ahmedabad  Bangalore  Chennai  Coimbatore  Delhi  \\\n",
       "0     2010    5.0   1.75          0          0        0           0      0   \n",
       "1     2015    5.0  12.50          0          0        0           0      0   \n",
       "2     2011    5.0   4.50          0          0        1           0      0   \n",
       "3     2012    7.0   6.00          0          0        1           0      0   \n",
       "4     2013    5.0  17.74          0          0        0           1      0   \n",
       "...    ...    ...    ...        ...        ...      ...         ...    ...   \n",
       "6014  2014    5.0   4.75          0          0        0           0      1   \n",
       "6015  2015    5.0   4.00          0          0        0           0      0   \n",
       "6016  2012    8.0   2.90          0          0        0           0      0   \n",
       "6017  2013    5.0   2.65          0          0        0           0      0   \n",
       "6018  2011    5.0   2.50          0          0        0           0      0   \n",
       "\n",
       "      Hyderabad  Jaipur  ...  Diesel  Electric  Petrol  First  Second  Third  \\\n",
       "0             0       0  ...       0         0       0      1       0      0   \n",
       "1             0       0  ...       1         0       0      1       0      0   \n",
       "2             0       0  ...       0         0       1      1       0      0   \n",
       "3             0       0  ...       1         0       0      1       0      0   \n",
       "4             0       0  ...       1         0       0      0       1      0   \n",
       "...         ...     ...  ...     ...       ...     ...    ...     ...    ...   \n",
       "6014          0       0  ...       1         0       0      1       0      0   \n",
       "6015          0       1  ...       1         0       0      1       0      0   \n",
       "6016          0       1  ...       1         0       0      0       1      0   \n",
       "6017          0       0  ...       0         0       1      1       0      0   \n",
       "6018          1       0  ...       1         0       0      1       0      0   \n",
       "\n",
       "      KMs_scaled  Mileage_scaled  Engine_scaled  Power_scaled  \n",
       "0       0.384528        1.978090      -1.040981     -1.030531  \n",
       "1      -0.436482        0.317722      -0.062755      0.245812  \n",
       "2      -0.304061       -0.034477      -0.704297     -0.457640  \n",
       "3       0.781790        0.581273      -0.622220     -0.456515  \n",
       "4      -0.445221       -0.753251       0.583812      0.519689  \n",
       "...          ...             ...            ...           ...  \n",
       "6014   -0.797593        2.409354      -0.622220     -0.733393  \n",
       "6015    1.126084        1.450989      -0.836626     -0.789669  \n",
       "6016   -0.065703       -1.040761       1.471586     -0.020562  \n",
       "6017   -0.304061        0.133237      -1.040981     -0.862828  \n",
       "6018   -0.277577        1.700164      -1.144834     -1.041036  \n",
       "\n",
       "[5949 rows x 25 columns]"
      ]
     },
     "execution_count": 128,
     "metadata": {},
     "output_type": "execute_result"
    }
   ],
   "source": [
    "df1"
   ]
  },
  {
   "cell_type": "code",
   "execution_count": 129,
   "metadata": {},
   "outputs": [],
   "source": [
    "X = df.iloc[:, df.columns!='Price']\n",
    "y = df['Price']"
   ]
  },
  {
   "cell_type": "code",
   "execution_count": 175,
   "metadata": {},
   "outputs": [
    {
     "data": {
      "text/plain": [
       "Index(['Year', 'Kilometers_Driven', 'Mileage', 'Engine', 'Power', 'Seats',\n",
       "       'Price', 'HIGH END CAR', 'MIDDLE RANGE CAR', 'Automatic', 'CNG',\n",
       "       'Diesel', 'Electric', 'Petrol', 'First', 'Second', 'Third', 'Ahmedabad',\n",
       "       'Bangalore', 'Chennai', 'Coimbatore', 'Delhi', 'Hyderabad', 'Jaipur',\n",
       "       'Kolkata', 'Mumbai', 'Pune', 'KMs_scaled', 'Mileage_scaled',\n",
       "       'Engine_scaled', 'Power_scaled'],\n",
       "      dtype='object')"
      ]
     },
     "execution_count": 175,
     "metadata": {},
     "output_type": "execute_result"
    }
   ],
   "source": [
    "df.columns"
   ]
  },
  {
   "cell_type": "code",
   "execution_count": 178,
   "metadata": {},
   "outputs": [],
   "source": [
    "X = df[['Year', 'Kilometers_Driven', 'Mileage', 'Engine', 'Power', 'Seats',\n",
    "       'HIGH END CAR', 'MIDDLE RANGE CAR', 'Automatic', 'CNG',\n",
    "       'Diesel', 'Electric', 'Petrol', 'First', 'Second', 'Third', 'Ahmedabad',\n",
    "       'Bangalore', 'Chennai', 'Coimbatore', 'Delhi', 'Hyderabad', 'Jaipur',\n",
    "       'Kolkata', 'Mumbai', 'Pune']]\n",
    "y = df['Price']"
   ]
  },
  {
   "cell_type": "code",
   "execution_count": 179,
   "metadata": {},
   "outputs": [],
   "source": [
    "# Splitting the data into train and test data, allocating 25% for testing\n",
    "\n",
    "from sklearn.model_selection import train_test_split\n",
    "X_train, X_test, y_train, y_test = train_test_split(X,y,test_size=0.25,random_state=0)"
   ]
  },
  {
   "cell_type": "code",
   "execution_count": 180,
   "metadata": {},
   "outputs": [],
   "source": [
    "from sklearn.linear_model import LinearRegression\n",
    "from sklearn.linear_model import LogisticRegression\n",
    "from sklearn.svm import SVC\n",
    "from sklearn.neighbors import KNeighborsClassifier\n",
    "from sklearn.model_selection import cross_val_score"
   ]
  },
  {
   "cell_type": "markdown",
   "metadata": {},
   "source": [
    "# LinearRegression Model"
   ]
  },
  {
   "cell_type": "code",
   "execution_count": 181,
   "metadata": {},
   "outputs": [],
   "source": [
    "from sklearn.linear_model import LinearRegression\n",
    "lm = LinearRegression()"
   ]
  },
  {
   "cell_type": "code",
   "execution_count": 182,
   "metadata": {},
   "outputs": [
    {
     "data": {
      "text/plain": [
       "LinearRegression(copy_X=True, fit_intercept=True, n_jobs=None, normalize=False)"
      ]
     },
     "execution_count": 182,
     "metadata": {},
     "output_type": "execute_result"
    }
   ],
   "source": [
    "lm.fit(X_train,y_train)"
   ]
  },
  {
   "cell_type": "code",
   "execution_count": 183,
   "metadata": {},
   "outputs": [
    {
     "data": {
      "text/plain": [
       "array([ 9.71851643e-01, -2.33945596e-05, -1.15393444e-01,  3.32818133e-03,\n",
       "        7.17598367e-02, -4.25883931e-01,  1.04299181e+01, -9.50515471e-02,\n",
       "       -2.55131251e-01, -1.13842868e-01, -9.37094093e-01,  9.99016498e+00,\n",
       "       -1.80967224e+00, -1.37086334e+00, -2.01130943e+00,  8.37731262e-02,\n",
       "        4.87658062e-01,  2.08196371e+00,  1.83644184e+00,  1.95767064e+00,\n",
       "        1.89187091e-01,  2.47752730e+00,  1.31176662e+00, -1.20532860e+00,\n",
       "       -6.75627327e-01,  8.45251504e-01])"
      ]
     },
     "execution_count": 183,
     "metadata": {},
     "output_type": "execute_result"
    }
   ],
   "source": [
    "lm.coef_"
   ]
  },
  {
   "cell_type": "code",
   "execution_count": 184,
   "metadata": {},
   "outputs": [],
   "source": [
    "predictions = lm.predict(X_test)"
   ]
  },
  {
   "cell_type": "markdown",
   "metadata": {},
   "source": [
    "Evaluating the Linear Model"
   ]
  },
  {
   "cell_type": "code",
   "execution_count": 185,
   "metadata": {},
   "outputs": [
    {
     "data": {
      "text/plain": [
       "Text(0, 0.5, 'Predicted Y')"
      ]
     },
     "execution_count": 185,
     "metadata": {},
     "output_type": "execute_result"
    },
    {
     "data": {
      "image/png": "[encoded data removed]",
      "text/plain": [
       "<Figure size 432x288 with 1 Axes>"
      ]
     },
     "metadata": {
      "needs_background": "light"
     },
     "output_type": "display_data"
    }
   ],
   "source": [
    "plt.scatter(y_test,predictions)\n",
    "plt.xlabel('Y Test')\n",
    "plt.ylabel('Predicted Y')"
   ]
  },
  {
   "cell_type": "code",
   "execution_count": 186,
   "metadata": {},
   "outputs": [
    {
     "data": {
      "image/png": "[encoded data removed]",
      "text/plain": [
       "<Figure size 432x288 with 1 Axes>"
      ]
     },
     "metadata": {
      "needs_background": "light"
     },
     "output_type": "display_data"
    }
   ],
   "source": [
    "sns.distplot((y_test-predictions),bins=50);"
   ]
  },
  {
   "cell_type": "code",
   "execution_count": 187,
   "metadata": {},
   "outputs": [
    {
     "name": "stdout",
     "output_type": "stream",
     "text": [
      "MAE: 3.024924368216146\n",
      "MSE: 25.624837713883984\n",
      "RMSE: 5.062098153323776\n"
     ]
    }
   ],
   "source": [
    "# calculate these metrics by hand!\n",
    "from sklearn import metrics\n",
    "\n",
    "print('MAE:', metrics.mean_absolute_error(y_test, predictions))\n",
    "print('MSE:', metrics.mean_squared_error(y_test, predictions))\n",
    "print('RMSE:', np.sqrt(metrics.mean_squared_error(y_test, predictions)))"
   ]
  },
  {
   "cell_type": "code",
   "execution_count": 62,
   "metadata": {},
   "outputs": [
    {
     "data": {
      "text/plain": [
       "Index(['Year', 'Kilometers_Driven', 'Mileage', 'Engine', 'Power', 'Seats',\n",
       "       'Price', 'Ahmedabad', 'Bangalore', 'Chennai', 'Coimbatore', 'Delhi',\n",
       "       'Hyderabad', 'Jaipur', 'Kolkata', 'Mumbai', 'Pune', 'Automatic', 'CNG',\n",
       "       'Diesel', 'Electric', 'Petrol', 'First', 'Second', 'Third',\n",
       "       'KMs_scaled', 'Mileage_scaled', 'Engine_scaled', 'Power_scaled'],\n",
       "      dtype='object')"
      ]
     },
     "execution_count": 62,
     "metadata": {},
     "output_type": "execute_result"
    }
   ],
   "source": [
    "df.columns"
   ]
  },
  {
   "cell_type": "code",
   "execution_count": 156,
   "metadata": {},
   "outputs": [
    {
     "data": {
      "text/plain": [
       "Index(['Year', 'Kilometers_Driven', 'Mileage', 'Engine', 'Power', 'Seats',\n",
       "       'Price', 'HIGH END CAR', 'MIDDLE RANGE CAR', 'Automatic', 'CNG',\n",
       "       'Diesel', 'Electric', 'Petrol', 'First', 'Second', 'Third', 'Ahmedabad',\n",
       "       'Bangalore', 'Chennai', 'Coimbatore', 'Delhi', 'Hyderabad', 'Jaipur',\n",
       "       'Kolkata', 'Mumbai', 'Pune', 'KMs_scaled', 'Mileage_scaled',\n",
       "       'Engine_scaled', 'Power_scaled'],\n",
       "      dtype='object')"
      ]
     },
     "execution_count": 156,
     "metadata": {},
     "output_type": "execute_result"
    }
   ],
   "source": [
    "df.columns"
   ]
  },
  {
   "cell_type": "code",
   "execution_count": 157,
   "metadata": {},
   "outputs": [],
   "source": [
    "X = df[['Year', 'Seats',\n",
    "       'Price', 'Ahmedabad', 'Bangalore', 'Chennai', 'Coimbatore', 'Delhi',\n",
    "       'Hyderabad', 'Jaipur', 'HIGH END CAR', 'MIDDLE RANGE CAR','Kolkata', 'Mumbai', 'Pune', 'Automatic', 'CNG',\n",
    "       'Diesel', 'Electric', 'Petrol', 'First', 'Second', 'Third',\n",
    "       'KMs_scaled', 'Mileage_scaled', 'Engine_scaled', 'Power_scaled']]\n",
    "y = df['Automatic']"
   ]
  },
  {
   "cell_type": "code",
   "execution_count": 158,
   "metadata": {},
   "outputs": [],
   "source": [
    "X_train, X_test, y_train, y_test = train_test_split(X, y, test_size=0.33, random_state=42)"
   ]
  },
  {
   "cell_type": "markdown",
   "metadata": {},
   "source": [
    "# LogisticRegression Model"
   ]
  },
  {
   "cell_type": "code",
   "execution_count": 159,
   "metadata": {},
   "outputs": [],
   "source": [
    "from sklearn.linear_model import LogisticRegression\n"
   ]
  },
  {
   "cell_type": "code",
   "execution_count": 160,
   "metadata": {},
   "outputs": [
    {
     "name": "stderr",
     "output_type": "stream",
     "text": [
      "/Users/macbook/opt/anaconda3/lib/python3.7/site-packages/sklearn/linear_model/logistic.py:432: FutureWarning: Default solver will be changed to 'lbfgs' in 0.22. Specify a solver to silence this warning.\n",
      "  FutureWarning)\n"
     ]
    },
    {
     "data": {
      "text/plain": [
       "LogisticRegression(C=1.0, class_weight=None, dual=False, fit_intercept=True,\n",
       "                   intercept_scaling=1, l1_ratio=None, max_iter=100,\n",
       "                   multi_class='warn', n_jobs=None, penalty='l2',\n",
       "                   random_state=None, solver='warn', tol=0.0001, verbose=0,\n",
       "                   warm_start=False)"
      ]
     },
     "execution_count": 160,
     "metadata": {},
     "output_type": "execute_result"
    }
   ],
   "source": [
    "logmodel = LogisticRegression()\n",
    "logmodel.fit(X_train,y_train)"
   ]
  },
  {
   "cell_type": "code",
   "execution_count": 161,
   "metadata": {},
   "outputs": [],
   "source": [
    "predictions = logmodel.predict(X_test)"
   ]
  },
  {
   "cell_type": "code",
   "execution_count": 162,
   "metadata": {},
   "outputs": [],
   "source": [
    "from sklearn.metrics import confusion_matrix,classification_report"
   ]
  },
  {
   "cell_type": "code",
   "execution_count": 163,
   "metadata": {},
   "outputs": [
    {
     "name": "stdout",
     "output_type": "stream",
     "text": [
      "              precision    recall  f1-score   support\n",
      "\n",
      "           0       1.00      1.00      1.00      1381\n",
      "           1       1.00      1.00      1.00       583\n",
      "\n",
      "    accuracy                           1.00      1964\n",
      "   macro avg       1.00      1.00      1.00      1964\n",
      "weighted avg       1.00      1.00      1.00      1964\n",
      "\n",
      "[[1380    1]\n",
      " [   0  583]]\n"
     ]
    }
   ],
   "source": [
    "print(classification_report(y_test,predictions))\n",
    "print(confusion_matrix(y_test,predictions))"
   ]
  },
  {
   "cell_type": "code",
   "execution_count": 164,
   "metadata": {},
   "outputs": [
    {
     "name": "stdout",
     "output_type": "stream",
     "text": [
      "MAE: 0.0005091649694501018\n",
      "MSE: 0.0005091649694501018\n",
      "RMSE: 0.02256468412032621\n"
     ]
    }
   ],
   "source": [
    "# calculate these metrics by hand!\n",
    "from sklearn import metrics\n",
    "\n",
    "print('MAE:', metrics.mean_absolute_error(y_test, predictions))\n",
    "print('MSE:', metrics.mean_squared_error(y_test, predictions))\n",
    "print('RMSE:', np.sqrt(metrics.mean_squared_error(y_test, predictions)))"
   ]
  },
  {
   "cell_type": "code",
   "execution_count": 165,
   "metadata": {},
   "outputs": [
    {
     "data": {
      "text/html": [
       "<div>\n",
       "<style scoped>\n",
       "    .dataframe tbody tr th:only-of-type {\n",
       "        vertical-align: middle;\n",
       "    }\n",
       "\n",
       "    .dataframe tbody tr th {\n",
       "        vertical-align: top;\n",
       "    }\n",
       "\n",
       "    .dataframe thead th {\n",
       "        text-align: right;\n",
       "    }\n",
       "</style>\n",
       "<table border=\"1\" class=\"dataframe\">\n",
       "  <thead>\n",
       "    <tr style=\"text-align: right;\">\n",
       "      <th></th>\n",
       "      <th>Year</th>\n",
       "      <th>Kilometers_Driven</th>\n",
       "      <th>Mileage</th>\n",
       "      <th>Engine</th>\n",
       "      <th>Power</th>\n",
       "      <th>Seats</th>\n",
       "      <th>Price</th>\n",
       "      <th>HIGH END CAR</th>\n",
       "      <th>MIDDLE RANGE CAR</th>\n",
       "      <th>Automatic</th>\n",
       "      <th>...</th>\n",
       "      <th>Ahmedabad</th>\n",
       "      <th>Bangalore</th>\n",
       "      <th>Chennai</th>\n",
       "      <th>Coimbatore</th>\n",
       "      <th>Delhi</th>\n",
       "      <th>Hyderabad</th>\n",
       "      <th>Jaipur</th>\n",
       "      <th>Kolkata</th>\n",
       "      <th>Mumbai</th>\n",
       "      <th>Pune</th>\n",
       "    </tr>\n",
       "  </thead>\n",
       "  <tbody>\n",
       "    <tr>\n",
       "      <td>0</td>\n",
       "      <td>2010</td>\n",
       "      <td>72000</td>\n",
       "      <td>26.60</td>\n",
       "      <td>998.0</td>\n",
       "      <td>58.16</td>\n",
       "      <td>5.0</td>\n",
       "      <td>1.75</td>\n",
       "      <td>0</td>\n",
       "      <td>0</td>\n",
       "      <td>0</td>\n",
       "      <td>...</td>\n",
       "      <td>0</td>\n",
       "      <td>0</td>\n",
       "      <td>0</td>\n",
       "      <td>0</td>\n",
       "      <td>0</td>\n",
       "      <td>0</td>\n",
       "      <td>0</td>\n",
       "      <td>0</td>\n",
       "      <td>1</td>\n",
       "      <td>0</td>\n",
       "    </tr>\n",
       "    <tr>\n",
       "      <td>1</td>\n",
       "      <td>2015</td>\n",
       "      <td>41000</td>\n",
       "      <td>19.67</td>\n",
       "      <td>1582.0</td>\n",
       "      <td>126.20</td>\n",
       "      <td>5.0</td>\n",
       "      <td>12.50</td>\n",
       "      <td>0</td>\n",
       "      <td>0</td>\n",
       "      <td>0</td>\n",
       "      <td>...</td>\n",
       "      <td>0</td>\n",
       "      <td>0</td>\n",
       "      <td>0</td>\n",
       "      <td>0</td>\n",
       "      <td>0</td>\n",
       "      <td>0</td>\n",
       "      <td>0</td>\n",
       "      <td>0</td>\n",
       "      <td>0</td>\n",
       "      <td>1</td>\n",
       "    </tr>\n",
       "    <tr>\n",
       "      <td>2</td>\n",
       "      <td>2011</td>\n",
       "      <td>46000</td>\n",
       "      <td>18.20</td>\n",
       "      <td>1199.0</td>\n",
       "      <td>88.70</td>\n",
       "      <td>5.0</td>\n",
       "      <td>4.50</td>\n",
       "      <td>0</td>\n",
       "      <td>0</td>\n",
       "      <td>0</td>\n",
       "      <td>...</td>\n",
       "      <td>0</td>\n",
       "      <td>0</td>\n",
       "      <td>1</td>\n",
       "      <td>0</td>\n",
       "      <td>0</td>\n",
       "      <td>0</td>\n",
       "      <td>0</td>\n",
       "      <td>0</td>\n",
       "      <td>0</td>\n",
       "      <td>0</td>\n",
       "    </tr>\n",
       "    <tr>\n",
       "      <td>3</td>\n",
       "      <td>2012</td>\n",
       "      <td>87000</td>\n",
       "      <td>20.77</td>\n",
       "      <td>1248.0</td>\n",
       "      <td>88.76</td>\n",
       "      <td>7.0</td>\n",
       "      <td>6.00</td>\n",
       "      <td>0</td>\n",
       "      <td>0</td>\n",
       "      <td>0</td>\n",
       "      <td>...</td>\n",
       "      <td>0</td>\n",
       "      <td>0</td>\n",
       "      <td>1</td>\n",
       "      <td>0</td>\n",
       "      <td>0</td>\n",
       "      <td>0</td>\n",
       "      <td>0</td>\n",
       "      <td>0</td>\n",
       "      <td>0</td>\n",
       "      <td>0</td>\n",
       "    </tr>\n",
       "    <tr>\n",
       "      <td>4</td>\n",
       "      <td>2013</td>\n",
       "      <td>40670</td>\n",
       "      <td>15.20</td>\n",
       "      <td>1968.0</td>\n",
       "      <td>140.80</td>\n",
       "      <td>5.0</td>\n",
       "      <td>17.74</td>\n",
       "      <td>1</td>\n",
       "      <td>0</td>\n",
       "      <td>1</td>\n",
       "      <td>...</td>\n",
       "      <td>0</td>\n",
       "      <td>0</td>\n",
       "      <td>0</td>\n",
       "      <td>1</td>\n",
       "      <td>0</td>\n",
       "      <td>0</td>\n",
       "      <td>0</td>\n",
       "      <td>0</td>\n",
       "      <td>0</td>\n",
       "      <td>0</td>\n",
       "    </tr>\n",
       "    <tr>\n",
       "      <td>...</td>\n",
       "      <td>...</td>\n",
       "      <td>...</td>\n",
       "      <td>...</td>\n",
       "      <td>...</td>\n",
       "      <td>...</td>\n",
       "      <td>...</td>\n",
       "      <td>...</td>\n",
       "      <td>...</td>\n",
       "      <td>...</td>\n",
       "      <td>...</td>\n",
       "      <td>...</td>\n",
       "      <td>...</td>\n",
       "      <td>...</td>\n",
       "      <td>...</td>\n",
       "      <td>...</td>\n",
       "      <td>...</td>\n",
       "      <td>...</td>\n",
       "      <td>...</td>\n",
       "      <td>...</td>\n",
       "      <td>...</td>\n",
       "      <td>...</td>\n",
       "    </tr>\n",
       "    <tr>\n",
       "      <td>6014</td>\n",
       "      <td>2014</td>\n",
       "      <td>27365</td>\n",
       "      <td>28.40</td>\n",
       "      <td>1248.0</td>\n",
       "      <td>74.00</td>\n",
       "      <td>5.0</td>\n",
       "      <td>4.75</td>\n",
       "      <td>0</td>\n",
       "      <td>0</td>\n",
       "      <td>0</td>\n",
       "      <td>...</td>\n",
       "      <td>0</td>\n",
       "      <td>0</td>\n",
       "      <td>0</td>\n",
       "      <td>0</td>\n",
       "      <td>1</td>\n",
       "      <td>0</td>\n",
       "      <td>0</td>\n",
       "      <td>0</td>\n",
       "      <td>0</td>\n",
       "      <td>0</td>\n",
       "    </tr>\n",
       "    <tr>\n",
       "      <td>6015</td>\n",
       "      <td>2015</td>\n",
       "      <td>100000</td>\n",
       "      <td>24.40</td>\n",
       "      <td>1120.0</td>\n",
       "      <td>71.00</td>\n",
       "      <td>5.0</td>\n",
       "      <td>4.00</td>\n",
       "      <td>0</td>\n",
       "      <td>0</td>\n",
       "      <td>0</td>\n",
       "      <td>...</td>\n",
       "      <td>0</td>\n",
       "      <td>0</td>\n",
       "      <td>0</td>\n",
       "      <td>0</td>\n",
       "      <td>0</td>\n",
       "      <td>0</td>\n",
       "      <td>1</td>\n",
       "      <td>0</td>\n",
       "      <td>0</td>\n",
       "      <td>0</td>\n",
       "    </tr>\n",
       "    <tr>\n",
       "      <td>6016</td>\n",
       "      <td>2012</td>\n",
       "      <td>55000</td>\n",
       "      <td>14.00</td>\n",
       "      <td>2498.0</td>\n",
       "      <td>112.00</td>\n",
       "      <td>8.0</td>\n",
       "      <td>2.90</td>\n",
       "      <td>0</td>\n",
       "      <td>1</td>\n",
       "      <td>0</td>\n",
       "      <td>...</td>\n",
       "      <td>0</td>\n",
       "      <td>0</td>\n",
       "      <td>0</td>\n",
       "      <td>0</td>\n",
       "      <td>0</td>\n",
       "      <td>0</td>\n",
       "      <td>1</td>\n",
       "      <td>0</td>\n",
       "      <td>0</td>\n",
       "      <td>0</td>\n",
       "    </tr>\n",
       "    <tr>\n",
       "      <td>6017</td>\n",
       "      <td>2013</td>\n",
       "      <td>46000</td>\n",
       "      <td>18.90</td>\n",
       "      <td>998.0</td>\n",
       "      <td>67.10</td>\n",
       "      <td>5.0</td>\n",
       "      <td>2.65</td>\n",
       "      <td>0</td>\n",
       "      <td>0</td>\n",
       "      <td>0</td>\n",
       "      <td>...</td>\n",
       "      <td>0</td>\n",
       "      <td>0</td>\n",
       "      <td>0</td>\n",
       "      <td>0</td>\n",
       "      <td>0</td>\n",
       "      <td>0</td>\n",
       "      <td>0</td>\n",
       "      <td>1</td>\n",
       "      <td>0</td>\n",
       "      <td>0</td>\n",
       "    </tr>\n",
       "    <tr>\n",
       "      <td>6018</td>\n",
       "      <td>2011</td>\n",
       "      <td>47000</td>\n",
       "      <td>25.44</td>\n",
       "      <td>936.0</td>\n",
       "      <td>57.60</td>\n",
       "      <td>5.0</td>\n",
       "      <td>2.50</td>\n",
       "      <td>0</td>\n",
       "      <td>0</td>\n",
       "      <td>0</td>\n",
       "      <td>...</td>\n",
       "      <td>0</td>\n",
       "      <td>0</td>\n",
       "      <td>0</td>\n",
       "      <td>0</td>\n",
       "      <td>0</td>\n",
       "      <td>1</td>\n",
       "      <td>0</td>\n",
       "      <td>0</td>\n",
       "      <td>0</td>\n",
       "      <td>0</td>\n",
       "    </tr>\n",
       "  </tbody>\n",
       "</table>\n",
       "<p>5949 rows × 27 columns</p>\n",
       "</div>"
      ],
      "text/plain": [
       "      Year  Kilometers_Driven  Mileage  Engine   Power  Seats  Price  \\\n",
       "0     2010              72000    26.60   998.0   58.16    5.0   1.75   \n",
       "1     2015              41000    19.67  1582.0  126.20    5.0  12.50   \n",
       "2     2011              46000    18.20  1199.0   88.70    5.0   4.50   \n",
       "3     2012              87000    20.77  1248.0   88.76    7.0   6.00   \n",
       "4     2013              40670    15.20  1968.0  140.80    5.0  17.74   \n",
       "...    ...                ...      ...     ...     ...    ...    ...   \n",
       "6014  2014              27365    28.40  1248.0   74.00    5.0   4.75   \n",
       "6015  2015             100000    24.40  1120.0   71.00    5.0   4.00   \n",
       "6016  2012              55000    14.00  2498.0  112.00    8.0   2.90   \n",
       "6017  2013              46000    18.90   998.0   67.10    5.0   2.65   \n",
       "6018  2011              47000    25.44   936.0   57.60    5.0   2.50   \n",
       "\n",
       "      HIGH END CAR  MIDDLE RANGE CAR  Automatic  ...  Ahmedabad  Bangalore  \\\n",
       "0                0                 0          0  ...          0          0   \n",
       "1                0                 0          0  ...          0          0   \n",
       "2                0                 0          0  ...          0          0   \n",
       "3                0                 0          0  ...          0          0   \n",
       "4                1                 0          1  ...          0          0   \n",
       "...            ...               ...        ...  ...        ...        ...   \n",
       "6014             0                 0          0  ...          0          0   \n",
       "6015             0                 0          0  ...          0          0   \n",
       "6016             0                 1          0  ...          0          0   \n",
       "6017             0                 0          0  ...          0          0   \n",
       "6018             0                 0          0  ...          0          0   \n",
       "\n",
       "      Chennai  Coimbatore  Delhi  Hyderabad  Jaipur  Kolkata  Mumbai  Pune  \n",
       "0           0           0      0          0       0        0       1     0  \n",
       "1           0           0      0          0       0        0       0     1  \n",
       "2           1           0      0          0       0        0       0     0  \n",
       "3           1           0      0          0       0        0       0     0  \n",
       "4           0           1      0          0       0        0       0     0  \n",
       "...       ...         ...    ...        ...     ...      ...     ...   ...  \n",
       "6014        0           0      1          0       0        0       0     0  \n",
       "6015        0           0      0          0       1        0       0     0  \n",
       "6016        0           0      0          0       1        0       0     0  \n",
       "6017        0           0      0          0       0        1       0     0  \n",
       "6018        0           0      0          1       0        0       0     0  \n",
       "\n",
       "[5949 rows x 27 columns]"
      ]
     },
     "execution_count": 165,
     "metadata": {},
     "output_type": "execute_result"
    }
   ],
   "source": [
    "df1"
   ]
  },
  {
   "cell_type": "code",
   "execution_count": null,
   "metadata": {},
   "outputs": [],
   "source": [
    "df1.columns"
   ]
  },
  {
   "cell_type": "code",
   "execution_count": 189,
   "metadata": {},
   "outputs": [],
   "source": [
    "X = df[['Year', 'Seats',\n",
    "       'Price', 'Ahmedabad', 'Bangalore', 'Chennai', 'Coimbatore', 'Delhi',\n",
    "       'Hyderabad', 'Jaipur', 'HIGH END CAR', 'MIDDLE RANGE CAR','Kolkata', 'Mumbai', 'Pune', 'Automatic', 'CNG',\n",
    "       'Diesel', 'Electric', 'Petrol', 'First', 'Second', 'Third',\n",
    "       'KMs_scaled', 'Mileage_scaled', 'Engine_scaled', 'Power_scaled']]\n",
    "y = df['Automatic']"
   ]
  },
  {
   "cell_type": "code",
   "execution_count": 190,
   "metadata": {},
   "outputs": [],
   "source": [
    "X_train, X_test, y_train, y_test = train_test_split(X, y, test_size=0.33, random_state=42)"
   ]
  },
  {
   "cell_type": "markdown",
   "metadata": {},
   "source": [
    "# KNN model"
   ]
  },
  {
   "cell_type": "code",
   "execution_count": 191,
   "metadata": {},
   "outputs": [],
   "source": [
    "knn = KNeighborsClassifier(n_neighbors=1)"
   ]
  },
  {
   "cell_type": "code",
   "execution_count": 192,
   "metadata": {},
   "outputs": [
    {
     "data": {
      "text/plain": [
       "KNeighborsClassifier(algorithm='auto', leaf_size=30, metric='minkowski',\n",
       "                     metric_params=None, n_jobs=None, n_neighbors=1, p=2,\n",
       "                     weights='uniform')"
      ]
     },
     "execution_count": 192,
     "metadata": {},
     "output_type": "execute_result"
    }
   ],
   "source": [
    "knn.fit(X_train,y_train)"
   ]
  },
  {
   "cell_type": "code",
   "execution_count": 193,
   "metadata": {},
   "outputs": [],
   "source": [
    "pred = knn.predict(X_test)\n",
    "from sklearn.metrics import classification_report,confusion_matrix"
   ]
  },
  {
   "cell_type": "code",
   "execution_count": 194,
   "metadata": {},
   "outputs": [
    {
     "name": "stdout",
     "output_type": "stream",
     "text": [
      "[[1348   33]\n",
      " [  65  518]]\n",
      "              precision    recall  f1-score   support\n",
      "\n",
      "           0       0.95      0.98      0.96      1381\n",
      "           1       0.94      0.89      0.91       583\n",
      "\n",
      "    accuracy                           0.95      1964\n",
      "   macro avg       0.95      0.93      0.94      1964\n",
      "weighted avg       0.95      0.95      0.95      1964\n",
      "\n"
     ]
    }
   ],
   "source": [
    "print(confusion_matrix(y_test,pred))\n",
    "print(classification_report(y_test,pred))"
   ]
  },
  {
   "cell_type": "code",
   "execution_count": 198,
   "metadata": {},
   "outputs": [],
   "source": [
    "error_rate = []\n",
    "\n",
    "# Will take some time\n",
    "for i in range(1,50):\n",
    "    \n",
    "    knn = KNeighborsClassifier(n_neighbors=i)\n",
    "    knn.fit(X_train,y_train)\n",
    "    pred_i = knn.predict(X_test)\n",
    "    error_rate.append(np.mean(pred_i != y_test))"
   ]
  },
  {
   "cell_type": "code",
   "execution_count": 199,
   "metadata": {},
   "outputs": [
    {
     "data": {
      "text/plain": [
       "Text(0, 0.5, 'Error Rate')"
      ]
     },
     "execution_count": 199,
     "metadata": {},
     "output_type": "execute_result"
    },
    {
     "data": {
      "image/png": "[encoded data removed]",
      "text/plain": [
       "<Figure size 720x432 with 1 Axes>"
      ]
     },
     "metadata": {
      "needs_background": "light"
     },
     "output_type": "display_data"
    }
   ],
   "source": [
    "plt.figure(figsize=(10,6))\n",
    "plt.plot(range(1,50),error_rate,color='blue', linestyle='dashed', marker='o',\n",
    "         markerfacecolor='red', markersize=10)\n",
    "plt.title('Error Rate vs. K Value')\n",
    "plt.xlabel('K')\n",
    "plt.ylabel('Error Rate')"
   ]
  },
  {
   "cell_type": "code",
   "execution_count": 200,
   "metadata": {},
   "outputs": [
    {
     "name": "stdout",
     "output_type": "stream",
     "text": [
      "MAE: 24.55600814663951\n",
      "MSE: 0.11303462321792261\n",
      "RMSE: 0.33620622126594063\n"
     ]
    }
   ],
   "source": [
    "# calculate these metrics by hand!\n",
    "from sklearn import metrics\n",
    "\n",
    "print('MAE:', metrics.mean_absolute_error(y_test, pred_i))\n",
    "print('MSE:', metrics.mean_squared_error(y_test, pred_i))\n",
    "print('RMSE:', np.sqrt(metrics.mean_squared_error(y_test, pred_i)))"
   ]
  },
  {
   "cell_type": "code",
   "execution_count": null,
   "metadata": {},
   "outputs": [],
   "source": []
  }
 ],
 "metadata": {
  "kernelspec": {
   "display_name": "Python 3",
   "language": "python",
   "name": "python3"
  },
  "language_info": {
   "codemirror_mode": {
    "name": "ipython",
    "version": 3
   },
   "file_extension": ".py",
   "mimetype": "text/x-python",
   "name": "python",
   "nbconvert_exporter": "python",
   "pygments_lexer": "ipython3",
   "version": "3.8.5"
  }
 },
 "nbformat": 4,
 "nbformat_minor": 2
}
